{
  "nbformat": 4,
  "nbformat_minor": 0,
  "metadata": {
    "colab": {
      "name": "1Aug-ybif.ipynb",
      "provenance": [],
      "collapsed_sections": []
    },
    "kernelspec": {
      "name": "python3",
      "display_name": "Python 3"
    },
    "language_info": {
      "name": "python"
    }
  },
  "cells": [
    {
      "cell_type": "markdown",
      "source": [
        "#Impoting lib"
      ],
      "metadata": {
        "id": "MqwmcZVywxcK"
      }
    },
    {
      "cell_type": "code",
      "execution_count": null,
      "metadata": {
        "id": "vqsWQ_NkwpyJ"
      },
      "outputs": [],
      "source": [
        "import pandas as pd\n",
        "import numpy as np"
      ]
    },
    {
      "cell_type": "markdown",
      "source": [
        "#Read CSV file"
      ],
      "metadata": {
        "id": "94B0gjeh0lh5"
      }
    },
    {
      "cell_type": "code",
      "source": [
        "df = pd.read_csv('https://raw.githubusercontent.com/ybifoundation/Dataset/main/Titanic.csv')"
      ],
      "metadata": {
        "id": "H-JZ938xxUTB"
      },
      "execution_count": null,
      "outputs": []
    },
    {
      "cell_type": "markdown",
      "source": [
        "#Top 5 data"
      ],
      "metadata": {
        "id": "nBHVVUHA0swR"
      }
    },
    {
      "cell_type": "code",
      "source": [
        "df.head(5)"
      ],
      "metadata": {
        "id": "pS8CN8nDw9TA"
      },
      "execution_count": null,
      "outputs": []
    },
    {
      "cell_type": "markdown",
      "source": [
        "#Last 5 data"
      ],
      "metadata": {
        "id": "PC0xixi00wNe"
      }
    },
    {
      "cell_type": "code",
      "source": [
        "df.tail()"
      ],
      "metadata": {
        "id": "wW8JrRfd0zHh"
      },
      "execution_count": null,
      "outputs": []
    },
    {
      "cell_type": "markdown",
      "source": [
        "#Info"
      ],
      "metadata": {
        "id": "8sst_Jcg048_"
      }
    },
    {
      "cell_type": "code",
      "source": [
        "df.info()"
      ],
      "metadata": {
        "id": "VfWl8L0106Py"
      },
      "execution_count": null,
      "outputs": []
    },
    {
      "cell_type": "markdown",
      "source": [
        "#describe"
      ],
      "metadata": {
        "id": "KQAyqmdg2E-R"
      }
    },
    {
      "cell_type": "code",
      "source": [
        "df.describe()"
      ],
      "metadata": {
        "id": "SDnKNu9_2G80"
      },
      "execution_count": null,
      "outputs": []
    },
    {
      "cell_type": "markdown",
      "source": [
        "#create csv file(demo)"
      ],
      "metadata": {
        "id": "N20YWTvYTN5D"
      }
    },
    {
      "cell_type": "code",
      "source": [
        "import pandas as pd\n",
        "import numpy as np\n",
        "\n",
        "dict1 = {\"name\" : [\"A\",\"B\",\"C\",\"D\"],\n",
        "         \"Score\" : [1,2,3,4],\n",
        "         \"Designation\" : [\"Mgr\", \"CEO\", \"Techn.\",\"Intern\"]}\n",
        "\n",
        "df = pd.DataFrame(dict1)\n",
        "df.to_csv(\"Demo.csv\")\n",
        "\n",
        "dataset = pd.read_csv(\"Demo.csv\")\n",
        "print(dataset)\n",
        "print(\"\\n\\n--------------------\\n\\n\")\n",
        "dataset.info()\n",
        "print(\"\\n\\n---------------------\\n\\n\")\n",
        "dataset.index = ['a','b','c','d']\n",
        "print(dataset)\n",
        "print(\"\\n\\n---------------------\\n\\n\")\n",
        "dataset.dtypes"
      ],
      "metadata": {
        "colab": {
          "base_uri": "https://localhost:8080/"
        },
        "id": "Z5YvLB0mTOdK",
        "outputId": "a668d459-0216-448e-f573-0a0f5ed33ad3"
      },
      "execution_count": null,
      "outputs": [
        {
          "output_type": "stream",
          "name": "stdout",
          "text": [
            "   Unnamed: 0 name  Score Designation\n",
            "0           0    A      1         Mgr\n",
            "1           1    B      2         CEO\n",
            "2           2    C      3      Techn.\n",
            "3           3    D      4      Intern\n",
            "\n",
            "\n",
            "--------------------\n",
            "\n",
            "\n",
            "<class 'pandas.core.frame.DataFrame'>\n",
            "RangeIndex: 4 entries, 0 to 3\n",
            "Data columns (total 4 columns):\n",
            " #   Column       Non-Null Count  Dtype \n",
            "---  ------       --------------  ----- \n",
            " 0   Unnamed: 0   4 non-null      int64 \n",
            " 1   name         4 non-null      object\n",
            " 2   Score        4 non-null      int64 \n",
            " 3   Designation  4 non-null      object\n",
            "dtypes: int64(2), object(2)\n",
            "memory usage: 256.0+ bytes\n",
            "\n",
            "\n",
            "---------------------\n",
            "\n",
            "\n",
            "   Unnamed: 0 name  Score Designation\n",
            "a           0    A      1         Mgr\n",
            "b           1    B      2         CEO\n",
            "c           2    C      3      Techn.\n",
            "d           3    D      4      Intern\n",
            "\n",
            "\n",
            "---------------------\n",
            "\n",
            "\n"
          ]
        },
        {
          "output_type": "execute_result",
          "data": {
            "text/plain": [
              "Unnamed: 0      int64\n",
              "name           object\n",
              "Score           int64\n",
              "Designation    object\n",
              "dtype: object"
            ]
          },
          "metadata": {},
          "execution_count": 33
        }
      ]
    },
    {
      "cell_type": "markdown",
      "source": [
        "#Using numpy rand"
      ],
      "metadata": {
        "id": "XFx8sNFhV-ZI"
      }
    },
    {
      "cell_type": "code",
      "source": [
        "newdf = pd.DataFrame(np.random.rand(334,5),index=np.arange(334))\n",
        "newdf\n",
        "#newdf.T === it'll transpose the whole dataset. Row will change in to col and col will into row\n",
        "#newdf.sort_index(axis=0, ascending=False)   #axis=0 ==row; axoz=1 ==col\n",
        "# to change a value in any location we don't change it by newdf[0][0]=55     ;   but we use newdf.loc[0,0]=55\n",
        "# newdf.drop(0, axis=1), if col of name 0 is to be removed!    if index then newdf.drop(0,axis=0)"
      ],
      "metadata": {
        "id": "8aEK6FkTaFAT"
      },
      "execution_count": null,
      "outputs": []
    },
    {
      "cell_type": "markdown",
      "source": [
        "#gh"
      ],
      "metadata": {
        "id": "lNHEhWdVas9l"
      }
    },
    {
      "cell_type": "code",
      "source": [
        ""
      ],
      "metadata": {
        "id": "M6KrlKAaasKU"
      },
      "execution_count": null,
      "outputs": []
    }
  ]
}