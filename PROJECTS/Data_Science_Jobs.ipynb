{
  "nbformat": 4,
  "nbformat_minor": 0,
  "metadata": {
    "colab": {
      "provenance": [],
      "authorship_tag": "ABX9TyOxmG+kkOI7dWjhHB8cAX1K",
      "include_colab_link": true
    },
    "kernelspec": {
      "name": "python3",
      "display_name": "Python 3"
    },
    "language_info": {
      "name": "python"
    }
  },
  "cells": [
    {
      "cell_type": "markdown",
      "metadata": {
        "id": "view-in-github",
        "colab_type": "text"
      },
      "source": [
        "<a href=\"https://colab.research.google.com/github/KaranOO/YBI-Foundation/blob/main/PROJECTS/Data_Science_Jobs.ipynb\" target=\"_parent\"><img src=\"https://colab.research.google.com/assets/colab-badge.svg\" alt=\"Open In Colab\"/></a>"
      ]
    },
    {
      "cell_type": "markdown",
      "source": [
        "Features\n",
        "  \n",
        "  enrollee_id : Unique ID for candidate\n",
        "\n",
        "  city: City code\n",
        "\n",
        "  city_ development _index : Developement index of the city (scaled)\n",
        "\n",
        "  gender: Gender of candidate\n",
        "\n",
        "  relevent_experience: Relevant experience of candidate\n",
        "\n",
        "  enrolled_university: Type of University course enrolled if any\n",
        "\n",
        "  education_level: Education level of candidate\n",
        "\n",
        "  major_discipline :Education major discipline of candidate\n",
        "\n",
        "  experience: Candidate total experience in years\n",
        "\n",
        "  company_size: No of employees in current employer's company\n",
        "\n",
        "  company_type : Type of current employer\n",
        "\n",
        "  lastnewjob: Difference in years between previous job and current job\n",
        "\n",
        "  training_hours: training hours completed\n",
        "\n",
        "  target: 0 – Not looking for job change, 1 – Looking for a job change\n",
        "\n",
        "  Inspiration\n",
        "  \n",
        "  Predict the probability of a candidate will work for the company\n",
        "  Interpret model(s) such a way that illustrate which features affect candidate decision"
      ],
      "metadata": {
        "id": "FGULKnsYtQ0u"
      }
    },
    {
      "cell_type": "markdown",
      "source": [
        "# Importing Libraries"
      ],
      "metadata": {
        "id": "gfaRFFPstnLV"
      }
    },
    {
      "cell_type": "code",
      "execution_count": 770,
      "metadata": {
        "id": "ptyrpBEYtNFs"
      },
      "outputs": [],
      "source": [
        "import pandas as pd\n",
        "import matplotlib.pyplot as plt\n",
        "import seaborn as sns"
      ]
    },
    {
      "cell_type": "code",
      "source": [
        "train = pd.read_csv('https://www.dropbox.com/s/8pnfe5bnbe9jglt/JobChangeofDataScientists.csv?dl=1')\n",
        "test = pd.read_csv('https://www.dropbox.com/s/8pnfe5bnbe9jglt/JobChangeofDataScientists.csv?dl=1')"
      ],
      "metadata": {
        "id": "T7z1ZU02tkFt"
      },
      "execution_count": 771,
      "outputs": []
    },
    {
      "cell_type": "code",
      "source": [
        "train.head()"
      ],
      "metadata": {
        "colab": {
          "base_uri": "https://localhost:8080/",
          "height": 305
        },
        "id": "4E1MN63KtmIA",
        "outputId": "f75b3c61-98f4-4fc1-bf1e-2a11d165128d"
      },
      "execution_count": 772,
      "outputs": [
        {
          "output_type": "execute_result",
          "data": {
            "text/plain": [
              "   enrollee_id      city  city_development_index gender  \\\n",
              "0         8949  city_103                   0.920   Male   \n",
              "1        29725   city_40                   0.776   Male   \n",
              "2        11561   city_21                   0.624    NaN   \n",
              "3        33241  city_115                   0.789    NaN   \n",
              "4          666  city_162                   0.767   Male   \n",
              "\n",
              "       relevent_experience enrolled_university education_level  \\\n",
              "0  Has relevent experience       no_enrollment        Graduate   \n",
              "1   No relevent experience       no_enrollment        Graduate   \n",
              "2   No relevent experience    Full time course        Graduate   \n",
              "3   No relevent experience                 NaN        Graduate   \n",
              "4  Has relevent experience       no_enrollment         Masters   \n",
              "\n",
              "  major_discipline experience company_size    company_type last_new_job  \\\n",
              "0             STEM        >20          NaN             NaN            1   \n",
              "1             STEM         15        50-99         Pvt Ltd           >4   \n",
              "2             STEM          5          NaN             NaN        never   \n",
              "3  Business Degree         <1          NaN         Pvt Ltd        never   \n",
              "4             STEM        >20        50-99  Funded Startup            4   \n",
              "\n",
              "   training_hours  target  \n",
              "0              36       1  \n",
              "1              47       0  \n",
              "2              83       0  \n",
              "3              52       1  \n",
              "4               8       0  "
            ],
            "text/html": [
              "\n",
              "  <div id=\"df-b40c4c05-7a37-41a4-8b3a-433b903f402f\">\n",
              "    <div class=\"colab-df-container\">\n",
              "      <div>\n",
              "<style scoped>\n",
              "    .dataframe tbody tr th:only-of-type {\n",
              "        vertical-align: middle;\n",
              "    }\n",
              "\n",
              "    .dataframe tbody tr th {\n",
              "        vertical-align: top;\n",
              "    }\n",
              "\n",
              "    .dataframe thead th {\n",
              "        text-align: right;\n",
              "    }\n",
              "</style>\n",
              "<table border=\"1\" class=\"dataframe\">\n",
              "  <thead>\n",
              "    <tr style=\"text-align: right;\">\n",
              "      <th></th>\n",
              "      <th>enrollee_id</th>\n",
              "      <th>city</th>\n",
              "      <th>city_development_index</th>\n",
              "      <th>gender</th>\n",
              "      <th>relevent_experience</th>\n",
              "      <th>enrolled_university</th>\n",
              "      <th>education_level</th>\n",
              "      <th>major_discipline</th>\n",
              "      <th>experience</th>\n",
              "      <th>company_size</th>\n",
              "      <th>company_type</th>\n",
              "      <th>last_new_job</th>\n",
              "      <th>training_hours</th>\n",
              "      <th>target</th>\n",
              "    </tr>\n",
              "  </thead>\n",
              "  <tbody>\n",
              "    <tr>\n",
              "      <th>0</th>\n",
              "      <td>8949</td>\n",
              "      <td>city_103</td>\n",
              "      <td>0.920</td>\n",
              "      <td>Male</td>\n",
              "      <td>Has relevent experience</td>\n",
              "      <td>no_enrollment</td>\n",
              "      <td>Graduate</td>\n",
              "      <td>STEM</td>\n",
              "      <td>&gt;20</td>\n",
              "      <td>NaN</td>\n",
              "      <td>NaN</td>\n",
              "      <td>1</td>\n",
              "      <td>36</td>\n",
              "      <td>1</td>\n",
              "    </tr>\n",
              "    <tr>\n",
              "      <th>1</th>\n",
              "      <td>29725</td>\n",
              "      <td>city_40</td>\n",
              "      <td>0.776</td>\n",
              "      <td>Male</td>\n",
              "      <td>No relevent experience</td>\n",
              "      <td>no_enrollment</td>\n",
              "      <td>Graduate</td>\n",
              "      <td>STEM</td>\n",
              "      <td>15</td>\n",
              "      <td>50-99</td>\n",
              "      <td>Pvt Ltd</td>\n",
              "      <td>&gt;4</td>\n",
              "      <td>47</td>\n",
              "      <td>0</td>\n",
              "    </tr>\n",
              "    <tr>\n",
              "      <th>2</th>\n",
              "      <td>11561</td>\n",
              "      <td>city_21</td>\n",
              "      <td>0.624</td>\n",
              "      <td>NaN</td>\n",
              "      <td>No relevent experience</td>\n",
              "      <td>Full time course</td>\n",
              "      <td>Graduate</td>\n",
              "      <td>STEM</td>\n",
              "      <td>5</td>\n",
              "      <td>NaN</td>\n",
              "      <td>NaN</td>\n",
              "      <td>never</td>\n",
              "      <td>83</td>\n",
              "      <td>0</td>\n",
              "    </tr>\n",
              "    <tr>\n",
              "      <th>3</th>\n",
              "      <td>33241</td>\n",
              "      <td>city_115</td>\n",
              "      <td>0.789</td>\n",
              "      <td>NaN</td>\n",
              "      <td>No relevent experience</td>\n",
              "      <td>NaN</td>\n",
              "      <td>Graduate</td>\n",
              "      <td>Business Degree</td>\n",
              "      <td>&lt;1</td>\n",
              "      <td>NaN</td>\n",
              "      <td>Pvt Ltd</td>\n",
              "      <td>never</td>\n",
              "      <td>52</td>\n",
              "      <td>1</td>\n",
              "    </tr>\n",
              "    <tr>\n",
              "      <th>4</th>\n",
              "      <td>666</td>\n",
              "      <td>city_162</td>\n",
              "      <td>0.767</td>\n",
              "      <td>Male</td>\n",
              "      <td>Has relevent experience</td>\n",
              "      <td>no_enrollment</td>\n",
              "      <td>Masters</td>\n",
              "      <td>STEM</td>\n",
              "      <td>&gt;20</td>\n",
              "      <td>50-99</td>\n",
              "      <td>Funded Startup</td>\n",
              "      <td>4</td>\n",
              "      <td>8</td>\n",
              "      <td>0</td>\n",
              "    </tr>\n",
              "  </tbody>\n",
              "</table>\n",
              "</div>\n",
              "      <button class=\"colab-df-convert\" onclick=\"convertToInteractive('df-b40c4c05-7a37-41a4-8b3a-433b903f402f')\"\n",
              "              title=\"Convert this dataframe to an interactive table.\"\n",
              "              style=\"display:none;\">\n",
              "        \n",
              "  <svg xmlns=\"http://www.w3.org/2000/svg\" height=\"24px\"viewBox=\"0 0 24 24\"\n",
              "       width=\"24px\">\n",
              "    <path d=\"M0 0h24v24H0V0z\" fill=\"none\"/>\n",
              "    <path d=\"M18.56 5.44l.94 2.06.94-2.06 2.06-.94-2.06-.94-.94-2.06-.94 2.06-2.06.94zm-11 1L8.5 8.5l.94-2.06 2.06-.94-2.06-.94L8.5 2.5l-.94 2.06-2.06.94zm10 10l.94 2.06.94-2.06 2.06-.94-2.06-.94-.94-2.06-.94 2.06-2.06.94z\"/><path d=\"M17.41 7.96l-1.37-1.37c-.4-.4-.92-.59-1.43-.59-.52 0-1.04.2-1.43.59L10.3 9.45l-7.72 7.72c-.78.78-.78 2.05 0 2.83L4 21.41c.39.39.9.59 1.41.59.51 0 1.02-.2 1.41-.59l7.78-7.78 2.81-2.81c.8-.78.8-2.07 0-2.86zM5.41 20L4 18.59l7.72-7.72 1.47 1.35L5.41 20z\"/>\n",
              "  </svg>\n",
              "      </button>\n",
              "      \n",
              "  <style>\n",
              "    .colab-df-container {\n",
              "      display:flex;\n",
              "      flex-wrap:wrap;\n",
              "      gap: 12px;\n",
              "    }\n",
              "\n",
              "    .colab-df-convert {\n",
              "      background-color: #E8F0FE;\n",
              "      border: none;\n",
              "      border-radius: 50%;\n",
              "      cursor: pointer;\n",
              "      display: none;\n",
              "      fill: #1967D2;\n",
              "      height: 32px;\n",
              "      padding: 0 0 0 0;\n",
              "      width: 32px;\n",
              "    }\n",
              "\n",
              "    .colab-df-convert:hover {\n",
              "      background-color: #E2EBFA;\n",
              "      box-shadow: 0px 1px 2px rgba(60, 64, 67, 0.3), 0px 1px 3px 1px rgba(60, 64, 67, 0.15);\n",
              "      fill: #174EA6;\n",
              "    }\n",
              "\n",
              "    [theme=dark] .colab-df-convert {\n",
              "      background-color: #3B4455;\n",
              "      fill: #D2E3FC;\n",
              "    }\n",
              "\n",
              "    [theme=dark] .colab-df-convert:hover {\n",
              "      background-color: #434B5C;\n",
              "      box-shadow: 0px 1px 3px 1px rgba(0, 0, 0, 0.15);\n",
              "      filter: drop-shadow(0px 1px 2px rgba(0, 0, 0, 0.3));\n",
              "      fill: #FFFFFF;\n",
              "    }\n",
              "  </style>\n",
              "\n",
              "      <script>\n",
              "        const buttonEl =\n",
              "          document.querySelector('#df-b40c4c05-7a37-41a4-8b3a-433b903f402f button.colab-df-convert');\n",
              "        buttonEl.style.display =\n",
              "          google.colab.kernel.accessAllowed ? 'block' : 'none';\n",
              "\n",
              "        async function convertToInteractive(key) {\n",
              "          const element = document.querySelector('#df-b40c4c05-7a37-41a4-8b3a-433b903f402f');\n",
              "          const dataTable =\n",
              "            await google.colab.kernel.invokeFunction('convertToInteractive',\n",
              "                                                     [key], {});\n",
              "          if (!dataTable) return;\n",
              "\n",
              "          const docLinkHtml = 'Like what you see? Visit the ' +\n",
              "            '<a target=\"_blank\" href=https://colab.research.google.com/notebooks/data_table.ipynb>data table notebook</a>'\n",
              "            + ' to learn more about interactive tables.';\n",
              "          element.innerHTML = '';\n",
              "          dataTable['output_type'] = 'display_data';\n",
              "          await google.colab.output.renderOutput(dataTable, element);\n",
              "          const docLink = document.createElement('div');\n",
              "          docLink.innerHTML = docLinkHtml;\n",
              "          element.appendChild(docLink);\n",
              "        }\n",
              "      </script>\n",
              "    </div>\n",
              "  </div>\n",
              "  "
            ]
          },
          "metadata": {},
          "execution_count": 772
        }
      ]
    },
    {
      "cell_type": "markdown",
      "source": [
        "# As dataset is unbalanced, we need to clean the datra first"
      ],
      "metadata": {
        "id": "8h20tJIX67Kb"
      }
    },
    {
      "cell_type": "code",
      "source": [
        "train.info()"
      ],
      "metadata": {
        "colab": {
          "base_uri": "https://localhost:8080/"
        },
        "id": "UQqGVAM10d_w",
        "outputId": "476b8a76-58b8-4111-9412-3a741f48bd00"
      },
      "execution_count": 773,
      "outputs": [
        {
          "output_type": "stream",
          "name": "stdout",
          "text": [
            "<class 'pandas.core.frame.DataFrame'>\n",
            "RangeIndex: 19158 entries, 0 to 19157\n",
            "Data columns (total 14 columns):\n",
            " #   Column                  Non-Null Count  Dtype  \n",
            "---  ------                  --------------  -----  \n",
            " 0   enrollee_id             19158 non-null  int64  \n",
            " 1   city                    19158 non-null  object \n",
            " 2   city_development_index  19158 non-null  float64\n",
            " 3   gender                  14650 non-null  object \n",
            " 4   relevent_experience     19158 non-null  object \n",
            " 5   enrolled_university     18772 non-null  object \n",
            " 6   education_level         18698 non-null  object \n",
            " 7   major_discipline        16345 non-null  object \n",
            " 8   experience              19093 non-null  object \n",
            " 9   company_size            13220 non-null  object \n",
            " 10  company_type            13018 non-null  object \n",
            " 11  last_new_job            18735 non-null  object \n",
            " 12  training_hours          19158 non-null  int64  \n",
            " 13  target                  19158 non-null  int64  \n",
            "dtypes: float64(1), int64(3), object(10)\n",
            "memory usage: 2.0+ MB\n"
          ]
        }
      ]
    },
    {
      "cell_type": "code",
      "source": [
        "train.isnull().sum()"
      ],
      "metadata": {
        "colab": {
          "base_uri": "https://localhost:8080/"
        },
        "id": "gnMbO_rs0fgu",
        "outputId": "48805d3e-7e63-4281-f1c7-5af4a2fa6c39"
      },
      "execution_count": 774,
      "outputs": [
        {
          "output_type": "execute_result",
          "data": {
            "text/plain": [
              "enrollee_id                  0\n",
              "city                         0\n",
              "city_development_index       0\n",
              "gender                    4508\n",
              "relevent_experience          0\n",
              "enrolled_university        386\n",
              "education_level            460\n",
              "major_discipline          2813\n",
              "experience                  65\n",
              "company_size              5938\n",
              "company_type              6140\n",
              "last_new_job               423\n",
              "training_hours               0\n",
              "target                       0\n",
              "dtype: int64"
            ]
          },
          "metadata": {},
          "execution_count": 774
        }
      ]
    },
    {
      "cell_type": "code",
      "source": [
        "train['gender']"
      ],
      "metadata": {
        "colab": {
          "base_uri": "https://localhost:8080/"
        },
        "id": "fKiAyxWe0hp3",
        "outputId": "d31cbd0d-7030-4311-9913-213a8991e1d8"
      },
      "execution_count": 775,
      "outputs": [
        {
          "output_type": "execute_result",
          "data": {
            "text/plain": [
              "0        Male\n",
              "1        Male\n",
              "2         NaN\n",
              "3         NaN\n",
              "4        Male\n",
              "         ... \n",
              "19153    Male\n",
              "19154    Male\n",
              "19155    Male\n",
              "19156    Male\n",
              "19157     NaN\n",
              "Name: gender, Length: 19158, dtype: object"
            ]
          },
          "metadata": {},
          "execution_count": 775
        }
      ]
    },
    {
      "cell_type": "code",
      "source": [
        "train.shape"
      ],
      "metadata": {
        "colab": {
          "base_uri": "https://localhost:8080/"
        },
        "id": "9HtKgZai3a07",
        "outputId": "50733276-9717-4e90-e68f-7aefbaf5c5b0"
      },
      "execution_count": 776,
      "outputs": [
        {
          "output_type": "execute_result",
          "data": {
            "text/plain": [
              "(19158, 14)"
            ]
          },
          "metadata": {},
          "execution_count": 776
        }
      ]
    },
    {
      "cell_type": "code",
      "source": [
        "train=train.dropna()"
      ],
      "metadata": {
        "id": "c_L8wuysqyjJ"
      },
      "execution_count": 777,
      "outputs": []
    },
    {
      "cell_type": "code",
      "source": [
        "train=train.reset_index(drop=True)"
      ],
      "metadata": {
        "id": "i1Ur29MR3UYd"
      },
      "execution_count": 778,
      "outputs": []
    },
    {
      "cell_type": "code",
      "source": [
        "train.shape"
      ],
      "metadata": {
        "colab": {
          "base_uri": "https://localhost:8080/"
        },
        "id": "yoVnJEmZ3XHJ",
        "outputId": "6a2eec3e-39aa-4311-a586-b80dca383718"
      },
      "execution_count": 779,
      "outputs": [
        {
          "output_type": "execute_result",
          "data": {
            "text/plain": [
              "(8955, 14)"
            ]
          },
          "metadata": {},
          "execution_count": 779
        }
      ]
    },
    {
      "cell_type": "code",
      "source": [
        "test.shape"
      ],
      "metadata": {
        "colab": {
          "base_uri": "https://localhost:8080/"
        },
        "id": "N7nHAab43jsK",
        "outputId": "464abcd5-60a8-4f97-8cf3-19b1fba7f7d5"
      },
      "execution_count": 780,
      "outputs": [
        {
          "output_type": "execute_result",
          "data": {
            "text/plain": [
              "(19158, 14)"
            ]
          },
          "metadata": {},
          "execution_count": 780
        }
      ]
    },
    {
      "cell_type": "code",
      "source": [
        "test.isnull().sum()"
      ],
      "metadata": {
        "colab": {
          "base_uri": "https://localhost:8080/"
        },
        "id": "GAYhdZJB3kRo",
        "outputId": "5201f7e7-5702-415a-dede-0d01f24224a6"
      },
      "execution_count": 781,
      "outputs": [
        {
          "output_type": "execute_result",
          "data": {
            "text/plain": [
              "enrollee_id                  0\n",
              "city                         0\n",
              "city_development_index       0\n",
              "gender                    4508\n",
              "relevent_experience          0\n",
              "enrolled_university        386\n",
              "education_level            460\n",
              "major_discipline          2813\n",
              "experience                  65\n",
              "company_size              5938\n",
              "company_type              6140\n",
              "last_new_job               423\n",
              "training_hours               0\n",
              "target                       0\n",
              "dtype: int64"
            ]
          },
          "metadata": {},
          "execution_count": 781
        }
      ]
    },
    {
      "cell_type": "markdown",
      "source": [
        "# Filling NULL values"
      ],
      "metadata": {
        "id": "UFf6q9-z7hcX"
      }
    },
    {
      "cell_type": "markdown",
      "source": [
        "## Gender"
      ],
      "metadata": {
        "id": "QvAfs7JQ7kB-"
      }
    },
    {
      "cell_type": "code",
      "source": [
        "print(test['gender'].mode())"
      ],
      "metadata": {
        "colab": {
          "base_uri": "https://localhost:8080/"
        },
        "id": "OSm1wJMA30cp",
        "outputId": "eea583f7-6c07-482e-b0fb-65d3b274aba7"
      },
      "execution_count": 782,
      "outputs": [
        {
          "output_type": "stream",
          "name": "stdout",
          "text": [
            "0    Male\n",
            "dtype: object\n"
          ]
        }
      ]
    },
    {
      "cell_type": "code",
      "source": [
        "test['gender'].fillna(value='Male',inplace=True)"
      ],
      "metadata": {
        "id": "I-CxDQD330yS"
      },
      "execution_count": 783,
      "outputs": []
    },
    {
      "cell_type": "markdown",
      "source": [
        "## Enrolled University"
      ],
      "metadata": {
        "id": "sytIu58m7oca"
      }
    },
    {
      "cell_type": "code",
      "source": [
        "#Filling enrolled_university column\n",
        "\n",
        "test['enrolled_university'].mode()"
      ],
      "metadata": {
        "colab": {
          "base_uri": "https://localhost:8080/"
        },
        "id": "Cn4KxXsR32-I",
        "outputId": "8a4a3c08-c594-42ac-a74b-53b81a662273"
      },
      "execution_count": 784,
      "outputs": [
        {
          "output_type": "execute_result",
          "data": {
            "text/plain": [
              "0    no_enrollment\n",
              "dtype: object"
            ]
          },
          "metadata": {},
          "execution_count": 784
        }
      ]
    },
    {
      "cell_type": "code",
      "source": [
        "test['enrolled_university'].fillna(value='no_enrollment',inplace=True)"
      ],
      "metadata": {
        "id": "qXTzHo-l34cI"
      },
      "execution_count": 785,
      "outputs": []
    },
    {
      "cell_type": "markdown",
      "source": [
        "## Education Level"
      ],
      "metadata": {
        "id": "uekle5Iz70lm"
      }
    },
    {
      "cell_type": "code",
      "source": [
        "#Filling education_level\n",
        "\n",
        "test['education_level'].mode()"
      ],
      "metadata": {
        "colab": {
          "base_uri": "https://localhost:8080/"
        },
        "id": "Qntd7KeC3-Ic",
        "outputId": "1a19aada-91c0-4b3f-800e-50d5e85f06d6"
      },
      "execution_count": 786,
      "outputs": [
        {
          "output_type": "execute_result",
          "data": {
            "text/plain": [
              "0    Graduate\n",
              "dtype: object"
            ]
          },
          "metadata": {},
          "execution_count": 786
        }
      ]
    },
    {
      "cell_type": "code",
      "source": [
        "test['education_level'].fillna(value='Graduate',inplace=True)"
      ],
      "metadata": {
        "id": "j75bAPfY3_xS"
      },
      "execution_count": 787,
      "outputs": []
    },
    {
      "cell_type": "markdown",
      "source": [
        "## Major Discipline"
      ],
      "metadata": {
        "id": "_ZwRK6ky76o8"
      }
    },
    {
      "cell_type": "code",
      "source": [
        "#Filling major_discipline \n",
        "\n",
        "test['major_discipline'].mode()"
      ],
      "metadata": {
        "colab": {
          "base_uri": "https://localhost:8080/"
        },
        "id": "CuHQ-9FA4BbO",
        "outputId": "88580914-96d8-43aa-ace4-d3c0c3ad576e"
      },
      "execution_count": 788,
      "outputs": [
        {
          "output_type": "execute_result",
          "data": {
            "text/plain": [
              "0    STEM\n",
              "dtype: object"
            ]
          },
          "metadata": {},
          "execution_count": 788
        }
      ]
    },
    {
      "cell_type": "code",
      "source": [
        "test['major_discipline'].fillna(value='STEM',inplace=True)"
      ],
      "metadata": {
        "id": "MPw3in3n4Dj5"
      },
      "execution_count": 789,
      "outputs": []
    },
    {
      "cell_type": "markdown",
      "source": [
        "## Experience"
      ],
      "metadata": {
        "id": "9H1BkvVG7-Ws"
      }
    },
    {
      "cell_type": "code",
      "source": [
        "#Filling experience\n",
        "\n",
        "test['experience'].mode()"
      ],
      "metadata": {
        "colab": {
          "base_uri": "https://localhost:8080/"
        },
        "id": "GfWO9aSv4E-w",
        "outputId": "b0e19b1a-c9d7-406e-8d45-08aee3907312"
      },
      "execution_count": 790,
      "outputs": [
        {
          "output_type": "execute_result",
          "data": {
            "text/plain": [
              "0    >20\n",
              "dtype: object"
            ]
          },
          "metadata": {},
          "execution_count": 790
        }
      ]
    },
    {
      "cell_type": "code",
      "source": [
        "test['experience'].fillna(value='>20',inplace=True)"
      ],
      "metadata": {
        "id": "cRVBwSI84Gb9"
      },
      "execution_count": 791,
      "outputs": []
    },
    {
      "cell_type": "markdown",
      "source": [
        "## Company Size"
      ],
      "metadata": {
        "id": "yjLrJnS_8DTn"
      }
    },
    {
      "cell_type": "code",
      "source": [
        "#Filling company size\n",
        "\n",
        "test['company_size'].mode()"
      ],
      "metadata": {
        "colab": {
          "base_uri": "https://localhost:8080/"
        },
        "id": "LRHamS6N4IVC",
        "outputId": "ed1a85fc-7068-4177-9c48-ea57fc1af351"
      },
      "execution_count": 792,
      "outputs": [
        {
          "output_type": "execute_result",
          "data": {
            "text/plain": [
              "0    50-99\n",
              "dtype: object"
            ]
          },
          "metadata": {},
          "execution_count": 792
        }
      ]
    },
    {
      "cell_type": "code",
      "source": [
        "test['company_size'].fillna(value='50-99',inplace=True)"
      ],
      "metadata": {
        "id": "WJbasn2H4Ja7"
      },
      "execution_count": 793,
      "outputs": []
    },
    {
      "cell_type": "markdown",
      "source": [
        "## Company Type"
      ],
      "metadata": {
        "id": "REF8_iDC8FoT"
      }
    },
    {
      "cell_type": "code",
      "source": [
        "#Filling company_type\n",
        "\n",
        "test['company_type'].mode()"
      ],
      "metadata": {
        "colab": {
          "base_uri": "https://localhost:8080/"
        },
        "id": "iPbYDxsF4K4L",
        "outputId": "88c912e5-14a1-4236-fa9e-27f982650d02"
      },
      "execution_count": 794,
      "outputs": [
        {
          "output_type": "execute_result",
          "data": {
            "text/plain": [
              "0    Pvt Ltd\n",
              "dtype: object"
            ]
          },
          "metadata": {},
          "execution_count": 794
        }
      ]
    },
    {
      "cell_type": "code",
      "source": [
        "test['company_type'].fillna(value='Pvt Ltd',inplace=True)"
      ],
      "metadata": {
        "id": "y-HsX4ra4Mfx"
      },
      "execution_count": 795,
      "outputs": []
    },
    {
      "cell_type": "markdown",
      "source": [
        "## Last new job"
      ],
      "metadata": {
        "id": "z1umqTHe8ORI"
      }
    },
    {
      "cell_type": "code",
      "source": [
        "#Filling last new job\n",
        "\n",
        "test['last_new_job'].mode()"
      ],
      "metadata": {
        "colab": {
          "base_uri": "https://localhost:8080/"
        },
        "id": "nGjCPgmi4OWn",
        "outputId": "7b00767e-51ab-4587-a414-6d7c2071797c"
      },
      "execution_count": 796,
      "outputs": [
        {
          "output_type": "execute_result",
          "data": {
            "text/plain": [
              "0    1\n",
              "dtype: object"
            ]
          },
          "metadata": {},
          "execution_count": 796
        }
      ]
    },
    {
      "cell_type": "code",
      "source": [
        "test['last_new_job'].fillna(value='1',inplace=True)"
      ],
      "metadata": {
        "id": "-29kRrre4QTm"
      },
      "execution_count": 797,
      "outputs": []
    },
    {
      "cell_type": "code",
      "source": [
        "test.isnull().sum()"
      ],
      "metadata": {
        "colab": {
          "base_uri": "https://localhost:8080/"
        },
        "id": "WzpLujQ04SB3",
        "outputId": "bb0ae825-0cbc-47ef-ba34-ec37a6a58652"
      },
      "execution_count": 798,
      "outputs": [
        {
          "output_type": "execute_result",
          "data": {
            "text/plain": [
              "enrollee_id               0\n",
              "city                      0\n",
              "city_development_index    0\n",
              "gender                    0\n",
              "relevent_experience       0\n",
              "enrolled_university       0\n",
              "education_level           0\n",
              "major_discipline          0\n",
              "experience                0\n",
              "company_size              0\n",
              "company_type              0\n",
              "last_new_job              0\n",
              "training_hours            0\n",
              "target                    0\n",
              "dtype: int64"
            ]
          },
          "metadata": {},
          "execution_count": 798
        }
      ]
    },
    {
      "cell_type": "code",
      "source": [
        "train.head()"
      ],
      "metadata": {
        "colab": {
          "base_uri": "https://localhost:8080/",
          "height": 340
        },
        "id": "ej5R5my34TA1",
        "outputId": "05e0b0b5-f278-487c-ed8d-c2c8c4836ff2"
      },
      "execution_count": 799,
      "outputs": [
        {
          "output_type": "execute_result",
          "data": {
            "text/plain": [
              "   enrollee_id      city  city_development_index gender  \\\n",
              "0        29725   city_40                   0.776   Male   \n",
              "1          666  city_162                   0.767   Male   \n",
              "2          402   city_46                   0.762   Male   \n",
              "3        27107  city_103                   0.920   Male   \n",
              "4        23853  city_103                   0.920   Male   \n",
              "\n",
              "       relevent_experience enrolled_university education_level  \\\n",
              "0   No relevent experience       no_enrollment        Graduate   \n",
              "1  Has relevent experience       no_enrollment         Masters   \n",
              "2  Has relevent experience       no_enrollment        Graduate   \n",
              "3  Has relevent experience       no_enrollment        Graduate   \n",
              "4  Has relevent experience       no_enrollment        Graduate   \n",
              "\n",
              "  major_discipline experience company_size    company_type last_new_job  \\\n",
              "0             STEM         15        50-99         Pvt Ltd           >4   \n",
              "1             STEM        >20        50-99  Funded Startup            4   \n",
              "2             STEM         13          <10         Pvt Ltd           >4   \n",
              "3             STEM          7        50-99         Pvt Ltd            1   \n",
              "4             STEM          5    5000-9999         Pvt Ltd            1   \n",
              "\n",
              "   training_hours  target  \n",
              "0              47       0  \n",
              "1               8       0  \n",
              "2              18       1  \n",
              "3              46       1  \n",
              "4             108       0  "
            ],
            "text/html": [
              "\n",
              "  <div id=\"df-3a7c64f6-5b71-4af1-acb6-e7f6b9b33c11\">\n",
              "    <div class=\"colab-df-container\">\n",
              "      <div>\n",
              "<style scoped>\n",
              "    .dataframe tbody tr th:only-of-type {\n",
              "        vertical-align: middle;\n",
              "    }\n",
              "\n",
              "    .dataframe tbody tr th {\n",
              "        vertical-align: top;\n",
              "    }\n",
              "\n",
              "    .dataframe thead th {\n",
              "        text-align: right;\n",
              "    }\n",
              "</style>\n",
              "<table border=\"1\" class=\"dataframe\">\n",
              "  <thead>\n",
              "    <tr style=\"text-align: right;\">\n",
              "      <th></th>\n",
              "      <th>enrollee_id</th>\n",
              "      <th>city</th>\n",
              "      <th>city_development_index</th>\n",
              "      <th>gender</th>\n",
              "      <th>relevent_experience</th>\n",
              "      <th>enrolled_university</th>\n",
              "      <th>education_level</th>\n",
              "      <th>major_discipline</th>\n",
              "      <th>experience</th>\n",
              "      <th>company_size</th>\n",
              "      <th>company_type</th>\n",
              "      <th>last_new_job</th>\n",
              "      <th>training_hours</th>\n",
              "      <th>target</th>\n",
              "    </tr>\n",
              "  </thead>\n",
              "  <tbody>\n",
              "    <tr>\n",
              "      <th>0</th>\n",
              "      <td>29725</td>\n",
              "      <td>city_40</td>\n",
              "      <td>0.776</td>\n",
              "      <td>Male</td>\n",
              "      <td>No relevent experience</td>\n",
              "      <td>no_enrollment</td>\n",
              "      <td>Graduate</td>\n",
              "      <td>STEM</td>\n",
              "      <td>15</td>\n",
              "      <td>50-99</td>\n",
              "      <td>Pvt Ltd</td>\n",
              "      <td>&gt;4</td>\n",
              "      <td>47</td>\n",
              "      <td>0</td>\n",
              "    </tr>\n",
              "    <tr>\n",
              "      <th>1</th>\n",
              "      <td>666</td>\n",
              "      <td>city_162</td>\n",
              "      <td>0.767</td>\n",
              "      <td>Male</td>\n",
              "      <td>Has relevent experience</td>\n",
              "      <td>no_enrollment</td>\n",
              "      <td>Masters</td>\n",
              "      <td>STEM</td>\n",
              "      <td>&gt;20</td>\n",
              "      <td>50-99</td>\n",
              "      <td>Funded Startup</td>\n",
              "      <td>4</td>\n",
              "      <td>8</td>\n",
              "      <td>0</td>\n",
              "    </tr>\n",
              "    <tr>\n",
              "      <th>2</th>\n",
              "      <td>402</td>\n",
              "      <td>city_46</td>\n",
              "      <td>0.762</td>\n",
              "      <td>Male</td>\n",
              "      <td>Has relevent experience</td>\n",
              "      <td>no_enrollment</td>\n",
              "      <td>Graduate</td>\n",
              "      <td>STEM</td>\n",
              "      <td>13</td>\n",
              "      <td>&lt;10</td>\n",
              "      <td>Pvt Ltd</td>\n",
              "      <td>&gt;4</td>\n",
              "      <td>18</td>\n",
              "      <td>1</td>\n",
              "    </tr>\n",
              "    <tr>\n",
              "      <th>3</th>\n",
              "      <td>27107</td>\n",
              "      <td>city_103</td>\n",
              "      <td>0.920</td>\n",
              "      <td>Male</td>\n",
              "      <td>Has relevent experience</td>\n",
              "      <td>no_enrollment</td>\n",
              "      <td>Graduate</td>\n",
              "      <td>STEM</td>\n",
              "      <td>7</td>\n",
              "      <td>50-99</td>\n",
              "      <td>Pvt Ltd</td>\n",
              "      <td>1</td>\n",
              "      <td>46</td>\n",
              "      <td>1</td>\n",
              "    </tr>\n",
              "    <tr>\n",
              "      <th>4</th>\n",
              "      <td>23853</td>\n",
              "      <td>city_103</td>\n",
              "      <td>0.920</td>\n",
              "      <td>Male</td>\n",
              "      <td>Has relevent experience</td>\n",
              "      <td>no_enrollment</td>\n",
              "      <td>Graduate</td>\n",
              "      <td>STEM</td>\n",
              "      <td>5</td>\n",
              "      <td>5000-9999</td>\n",
              "      <td>Pvt Ltd</td>\n",
              "      <td>1</td>\n",
              "      <td>108</td>\n",
              "      <td>0</td>\n",
              "    </tr>\n",
              "  </tbody>\n",
              "</table>\n",
              "</div>\n",
              "      <button class=\"colab-df-convert\" onclick=\"convertToInteractive('df-3a7c64f6-5b71-4af1-acb6-e7f6b9b33c11')\"\n",
              "              title=\"Convert this dataframe to an interactive table.\"\n",
              "              style=\"display:none;\">\n",
              "        \n",
              "  <svg xmlns=\"http://www.w3.org/2000/svg\" height=\"24px\"viewBox=\"0 0 24 24\"\n",
              "       width=\"24px\">\n",
              "    <path d=\"M0 0h24v24H0V0z\" fill=\"none\"/>\n",
              "    <path d=\"M18.56 5.44l.94 2.06.94-2.06 2.06-.94-2.06-.94-.94-2.06-.94 2.06-2.06.94zm-11 1L8.5 8.5l.94-2.06 2.06-.94-2.06-.94L8.5 2.5l-.94 2.06-2.06.94zm10 10l.94 2.06.94-2.06 2.06-.94-2.06-.94-.94-2.06-.94 2.06-2.06.94z\"/><path d=\"M17.41 7.96l-1.37-1.37c-.4-.4-.92-.59-1.43-.59-.52 0-1.04.2-1.43.59L10.3 9.45l-7.72 7.72c-.78.78-.78 2.05 0 2.83L4 21.41c.39.39.9.59 1.41.59.51 0 1.02-.2 1.41-.59l7.78-7.78 2.81-2.81c.8-.78.8-2.07 0-2.86zM5.41 20L4 18.59l7.72-7.72 1.47 1.35L5.41 20z\"/>\n",
              "  </svg>\n",
              "      </button>\n",
              "      \n",
              "  <style>\n",
              "    .colab-df-container {\n",
              "      display:flex;\n",
              "      flex-wrap:wrap;\n",
              "      gap: 12px;\n",
              "    }\n",
              "\n",
              "    .colab-df-convert {\n",
              "      background-color: #E8F0FE;\n",
              "      border: none;\n",
              "      border-radius: 50%;\n",
              "      cursor: pointer;\n",
              "      display: none;\n",
              "      fill: #1967D2;\n",
              "      height: 32px;\n",
              "      padding: 0 0 0 0;\n",
              "      width: 32px;\n",
              "    }\n",
              "\n",
              "    .colab-df-convert:hover {\n",
              "      background-color: #E2EBFA;\n",
              "      box-shadow: 0px 1px 2px rgba(60, 64, 67, 0.3), 0px 1px 3px 1px rgba(60, 64, 67, 0.15);\n",
              "      fill: #174EA6;\n",
              "    }\n",
              "\n",
              "    [theme=dark] .colab-df-convert {\n",
              "      background-color: #3B4455;\n",
              "      fill: #D2E3FC;\n",
              "    }\n",
              "\n",
              "    [theme=dark] .colab-df-convert:hover {\n",
              "      background-color: #434B5C;\n",
              "      box-shadow: 0px 1px 3px 1px rgba(0, 0, 0, 0.15);\n",
              "      filter: drop-shadow(0px 1px 2px rgba(0, 0, 0, 0.3));\n",
              "      fill: #FFFFFF;\n",
              "    }\n",
              "  </style>\n",
              "\n",
              "      <script>\n",
              "        const buttonEl =\n",
              "          document.querySelector('#df-3a7c64f6-5b71-4af1-acb6-e7f6b9b33c11 button.colab-df-convert');\n",
              "        buttonEl.style.display =\n",
              "          google.colab.kernel.accessAllowed ? 'block' : 'none';\n",
              "\n",
              "        async function convertToInteractive(key) {\n",
              "          const element = document.querySelector('#df-3a7c64f6-5b71-4af1-acb6-e7f6b9b33c11');\n",
              "          const dataTable =\n",
              "            await google.colab.kernel.invokeFunction('convertToInteractive',\n",
              "                                                     [key], {});\n",
              "          if (!dataTable) return;\n",
              "\n",
              "          const docLinkHtml = 'Like what you see? Visit the ' +\n",
              "            '<a target=\"_blank\" href=https://colab.research.google.com/notebooks/data_table.ipynb>data table notebook</a>'\n",
              "            + ' to learn more about interactive tables.';\n",
              "          element.innerHTML = '';\n",
              "          dataTable['output_type'] = 'display_data';\n",
              "          await google.colab.output.renderOutput(dataTable, element);\n",
              "          const docLink = document.createElement('div');\n",
              "          docLink.innerHTML = docLinkHtml;\n",
              "          element.appendChild(docLink);\n",
              "        }\n",
              "      </script>\n",
              "    </div>\n",
              "  </div>\n",
              "  "
            ]
          },
          "metadata": {},
          "execution_count": 799
        }
      ]
    },
    {
      "cell_type": "markdown",
      "source": [
        "# Data visualization"
      ],
      "metadata": {
        "id": "UNN6xAc98XEp"
      }
    },
    {
      "cell_type": "code",
      "source": [
        "plt.figure(figsize=(12,6))\n",
        "sns.countplot(train['gender'])\n",
        "plt.show()"
      ],
      "metadata": {
        "colab": {
          "base_uri": "https://localhost:8080/",
          "height": 443
        },
        "id": "euExw2I84Wp1",
        "outputId": "667a74b2-6a00-41f2-9523-087e1504b7ad"
      },
      "execution_count": 800,
      "outputs": [
        {
          "output_type": "stream",
          "name": "stderr",
          "text": [
            "/usr/local/lib/python3.7/dist-packages/seaborn/_decorators.py:43: FutureWarning: Pass the following variable as a keyword arg: x. From version 0.12, the only valid positional argument will be `data`, and passing other arguments without an explicit keyword will result in an error or misinterpretation.\n",
            "  FutureWarning\n"
          ]
        },
        {
          "output_type": "display_data",
          "data": {
            "text/plain": [
              "<Figure size 864x432 with 1 Axes>"
            ],
            "image/png": "[encoded data removed]"
          },
          "metadata": {
            "needs_background": "light"
          }
        }
      ]
    },
    {
      "cell_type": "code",
      "source": [
        "index = train['relevent_experience'].value_counts().index\n",
        "values=train['relevent_experience'].value_counts()\n",
        "plt.figure(figsize=(16,8))\n",
        "plt.pie(values,labels=index,autopct=\"%1.1f%%\",wedgeprops={'edgecolor':'black'})\n",
        "plt.show()"
      ],
      "metadata": {
        "colab": {
          "base_uri": "https://localhost:8080/",
          "height": 466
        },
        "id": "rg1W09kF4aY4",
        "outputId": "0fd78ffc-744f-4189-8690-a039eb61fdd3"
      },
      "execution_count": 801,
      "outputs": [
        {
          "output_type": "display_data",
          "data": {
            "text/plain": [
              "<Figure size 1152x576 with 1 Axes>"
            ],
            "image/png": "[encoded data removed]"
          },
          "metadata": {}
        }
      ]
    },
    {
      "cell_type": "code",
      "source": [
        "index=train['enrolled_university'].value_counts().index\n",
        "values=train['enrolled_university'].value_counts()\n",
        "plt.figure(figsize=(12,6))\n",
        "plt.bar(index, values,)\n",
        "plt.xlabel(\"enrolled_university\")\n",
        "plt.ylabel(\"count\")\n",
        "plt.show()"
      ],
      "metadata": {
        "colab": {
          "base_uri": "https://localhost:8080/",
          "height": 390
        },
        "id": "G4h8d_B84nmH",
        "outputId": "c19ff5de-edea-4e90-d8eb-2bba97bd153b"
      },
      "execution_count": 802,
      "outputs": [
        {
          "output_type": "display_data",
          "data": {
            "text/plain": [
              "<Figure size 864x432 with 1 Axes>"
            ],
            "image/png": "[encoded data removed]"
          },
          "metadata": {
            "needs_background": "light"
          }
        }
      ]
    },
    {
      "cell_type": "code",
      "source": [
        "index=train['education_level'].value_counts().index\n",
        "values=train['education_level'].value_counts()\n",
        "plt.figure(figsize=(16,8))\n",
        "plt.pie(values,labels=index,autopct=\"%1.1f%%\",wedgeprops={'edgecolor':'black'},explode=[0.1,0,0])\n",
        "plt.show()"
      ],
      "metadata": {
        "colab": {
          "base_uri": "https://localhost:8080/",
          "height": 466
        },
        "id": "DUurm8YQ4pUh",
        "outputId": "97c3dc03-834a-4ab2-df81-277ff0f5bc76"
      },
      "execution_count": 803,
      "outputs": [
        {
          "output_type": "display_data",
          "data": {
            "text/plain": [
              "<Figure size 1152x576 with 1 Axes>"
            ],
            "image/png": "[encoded data removed]"
          },
          "metadata": {}
        }
      ]
    },
    {
      "cell_type": "code",
      "source": [
        "plt.figure(figsize=(12,6))\n",
        "sns.countplot(train['major_discipline'])\n",
        "plt.show()\n",
        "print(train['major_discipline'].value_counts())\n",
        "# STEM - science,technology, engineering, mathematics"
      ],
      "metadata": {
        "colab": {
          "base_uri": "https://localhost:8080/",
          "height": 565
        },
        "id": "pvpP1Hyz4ryT",
        "outputId": "33580c0f-24cd-4f18-d7e9-00c5f1146269"
      },
      "execution_count": 804,
      "outputs": [
        {
          "output_type": "stream",
          "name": "stderr",
          "text": [
            "/usr/local/lib/python3.7/dist-packages/seaborn/_decorators.py:43: FutureWarning: Pass the following variable as a keyword arg: x. From version 0.12, the only valid positional argument will be `data`, and passing other arguments without an explicit keyword will result in an error or misinterpretation.\n",
            "  FutureWarning\n"
          ]
        },
        {
          "output_type": "display_data",
          "data": {
            "text/plain": [
              "<Figure size 864x432 with 1 Axes>"
            ],
            "image/png": "[encoded data removed]"
          },
          "metadata": {
            "needs_background": "light"
          }
        },
        {
          "output_type": "stream",
          "name": "stdout",
          "text": [
            "STEM               7989\n",
            "Humanities          378\n",
            "Other               177\n",
            "Business Degree     170\n",
            "Arts                129\n",
            "No Major            112\n",
            "Name: major_discipline, dtype: int64\n"
          ]
        }
      ]
    },
    {
      "cell_type": "code",
      "source": [
        "index=train['company_size'].value_counts().index\n",
        "values=train['company_size'].value_counts()\n",
        "plt.figure(figsize=(18,10))\n",
        "plt.xlabel('company_size')\n",
        "plt.pie(values,labels=index,autopct=\"%1.1f%%\",wedgeprops={\"edgecolor\":\"black\"},explode=[0,0,0.1,0,0,0,0,0])\n",
        "plt.show()"
      ],
      "metadata": {
        "colab": {
          "base_uri": "https://localhost:8080/",
          "height": 589
        },
        "id": "igxRJAvZ4tbt",
        "outputId": "ea5e0d0b-46ea-494a-c37b-4c372ce2b8d2"
      },
      "execution_count": 805,
      "outputs": [
        {
          "output_type": "display_data",
          "data": {
            "text/plain": [
              "<Figure size 1296x720 with 1 Axes>"
            ],
            "image/png": "[encoded data removed]"
          },
          "metadata": {}
        }
      ]
    },
    {
      "cell_type": "code",
      "source": [
        "index=train['company_type'].value_counts().index\n",
        "values=train['company_type'].value_counts()\n",
        "plt.figure(figsize=(12,6))\n",
        "plt.bar(index, values, color ='yellow')\n",
        "plt.xlabel(\"company_type\")\n",
        "plt.ylabel(\"count\")\n",
        "plt.show()"
      ],
      "metadata": {
        "colab": {
          "base_uri": "https://localhost:8080/",
          "height": 388
        },
        "id": "tysM3D8k4vL2",
        "outputId": "2fcb74ea-48f2-4b1b-ae22-d5cb571c02ae"
      },
      "execution_count": 806,
      "outputs": [
        {
          "output_type": "display_data",
          "data": {
            "text/plain": [
              "<Figure size 864x432 with 1 Axes>"
            ],
            "image/png": "[encoded data removed]"
          },
          "metadata": {
            "needs_background": "light"
          }
        }
      ]
    },
    {
      "cell_type": "code",
      "source": [
        "plt.figure(figsize=(12,6))\n",
        "sns.distplot(train['training_hours'],color='green')\n",
        "plt.show()"
      ],
      "metadata": {
        "colab": {
          "base_uri": "https://localhost:8080/",
          "height": 444
        },
        "id": "ED6XuPqF4w3h",
        "outputId": "7ee175d9-6e2b-47c1-b244-4f937bafffd5"
      },
      "execution_count": 807,
      "outputs": [
        {
          "output_type": "stream",
          "name": "stderr",
          "text": [
            "/usr/local/lib/python3.7/dist-packages/seaborn/distributions.py:2619: FutureWarning: `distplot` is a deprecated function and will be removed in a future version. Please adapt your code to use either `displot` (a figure-level function with similar flexibility) or `histplot` (an axes-level function for histograms).\n",
            "  warnings.warn(msg, FutureWarning)\n"
          ]
        },
        {
          "output_type": "display_data",
          "data": {
            "text/plain": [
              "<Figure size 864x432 with 1 Axes>"
            ],
            "image/png": "[encoded data removed]"
          },
          "metadata": {
            "needs_background": "light"
          }
        }
      ]
    },
    {
      "cell_type": "code",
      "source": [
        "train.head()"
      ],
      "metadata": {
        "colab": {
          "base_uri": "https://localhost:8080/",
          "height": 340
        },
        "id": "GrbCvNlM4yWZ",
        "outputId": "f06a7dca-a98d-4660-cfdd-8af1f83c34be"
      },
      "execution_count": 808,
      "outputs": [
        {
          "output_type": "execute_result",
          "data": {
            "text/plain": [
              "   enrollee_id      city  city_development_index gender  \\\n",
              "0        29725   city_40                   0.776   Male   \n",
              "1          666  city_162                   0.767   Male   \n",
              "2          402   city_46                   0.762   Male   \n",
              "3        27107  city_103                   0.920   Male   \n",
              "4        23853  city_103                   0.920   Male   \n",
              "\n",
              "       relevent_experience enrolled_university education_level  \\\n",
              "0   No relevent experience       no_enrollment        Graduate   \n",
              "1  Has relevent experience       no_enrollment         Masters   \n",
              "2  Has relevent experience       no_enrollment        Graduate   \n",
              "3  Has relevent experience       no_enrollment        Graduate   \n",
              "4  Has relevent experience       no_enrollment        Graduate   \n",
              "\n",
              "  major_discipline experience company_size    company_type last_new_job  \\\n",
              "0             STEM         15        50-99         Pvt Ltd           >4   \n",
              "1             STEM        >20        50-99  Funded Startup            4   \n",
              "2             STEM         13          <10         Pvt Ltd           >4   \n",
              "3             STEM          7        50-99         Pvt Ltd            1   \n",
              "4             STEM          5    5000-9999         Pvt Ltd            1   \n",
              "\n",
              "   training_hours  target  \n",
              "0              47       0  \n",
              "1               8       0  \n",
              "2              18       1  \n",
              "3              46       1  \n",
              "4             108       0  "
            ],
            "text/html": [
              "\n",
              "  <div id=\"df-55fea33e-e8bd-4250-a91f-8c17172f8f71\">\n",
              "    <div class=\"colab-df-container\">\n",
              "      <div>\n",
              "<style scoped>\n",
              "    .dataframe tbody tr th:only-of-type {\n",
              "        vertical-align: middle;\n",
              "    }\n",
              "\n",
              "    .dataframe tbody tr th {\n",
              "        vertical-align: top;\n",
              "    }\n",
              "\n",
              "    .dataframe thead th {\n",
              "        text-align: right;\n",
              "    }\n",
              "</style>\n",
              "<table border=\"1\" class=\"dataframe\">\n",
              "  <thead>\n",
              "    <tr style=\"text-align: right;\">\n",
              "      <th></th>\n",
              "      <th>enrollee_id</th>\n",
              "      <th>city</th>\n",
              "      <th>city_development_index</th>\n",
              "      <th>gender</th>\n",
              "      <th>relevent_experience</th>\n",
              "      <th>enrolled_university</th>\n",
              "      <th>education_level</th>\n",
              "      <th>major_discipline</th>\n",
              "      <th>experience</th>\n",
              "      <th>company_size</th>\n",
              "      <th>company_type</th>\n",
              "      <th>last_new_job</th>\n",
              "      <th>training_hours</th>\n",
              "      <th>target</th>\n",
              "    </tr>\n",
              "  </thead>\n",
              "  <tbody>\n",
              "    <tr>\n",
              "      <th>0</th>\n",
              "      <td>29725</td>\n",
              "      <td>city_40</td>\n",
              "      <td>0.776</td>\n",
              "      <td>Male</td>\n",
              "      <td>No relevent experience</td>\n",
              "      <td>no_enrollment</td>\n",
              "      <td>Graduate</td>\n",
              "      <td>STEM</td>\n",
              "      <td>15</td>\n",
              "      <td>50-99</td>\n",
              "      <td>Pvt Ltd</td>\n",
              "      <td>&gt;4</td>\n",
              "      <td>47</td>\n",
              "      <td>0</td>\n",
              "    </tr>\n",
              "    <tr>\n",
              "      <th>1</th>\n",
              "      <td>666</td>\n",
              "      <td>city_162</td>\n",
              "      <td>0.767</td>\n",
              "      <td>Male</td>\n",
              "      <td>Has relevent experience</td>\n",
              "      <td>no_enrollment</td>\n",
              "      <td>Masters</td>\n",
              "      <td>STEM</td>\n",
              "      <td>&gt;20</td>\n",
              "      <td>50-99</td>\n",
              "      <td>Funded Startup</td>\n",
              "      <td>4</td>\n",
              "      <td>8</td>\n",
              "      <td>0</td>\n",
              "    </tr>\n",
              "    <tr>\n",
              "      <th>2</th>\n",
              "      <td>402</td>\n",
              "      <td>city_46</td>\n",
              "      <td>0.762</td>\n",
              "      <td>Male</td>\n",
              "      <td>Has relevent experience</td>\n",
              "      <td>no_enrollment</td>\n",
              "      <td>Graduate</td>\n",
              "      <td>STEM</td>\n",
              "      <td>13</td>\n",
              "      <td>&lt;10</td>\n",
              "      <td>Pvt Ltd</td>\n",
              "      <td>&gt;4</td>\n",
              "      <td>18</td>\n",
              "      <td>1</td>\n",
              "    </tr>\n",
              "    <tr>\n",
              "      <th>3</th>\n",
              "      <td>27107</td>\n",
              "      <td>city_103</td>\n",
              "      <td>0.920</td>\n",
              "      <td>Male</td>\n",
              "      <td>Has relevent experience</td>\n",
              "      <td>no_enrollment</td>\n",
              "      <td>Graduate</td>\n",
              "      <td>STEM</td>\n",
              "      <td>7</td>\n",
              "      <td>50-99</td>\n",
              "      <td>Pvt Ltd</td>\n",
              "      <td>1</td>\n",
              "      <td>46</td>\n",
              "      <td>1</td>\n",
              "    </tr>\n",
              "    <tr>\n",
              "      <th>4</th>\n",
              "      <td>23853</td>\n",
              "      <td>city_103</td>\n",
              "      <td>0.920</td>\n",
              "      <td>Male</td>\n",
              "      <td>Has relevent experience</td>\n",
              "      <td>no_enrollment</td>\n",
              "      <td>Graduate</td>\n",
              "      <td>STEM</td>\n",
              "      <td>5</td>\n",
              "      <td>5000-9999</td>\n",
              "      <td>Pvt Ltd</td>\n",
              "      <td>1</td>\n",
              "      <td>108</td>\n",
              "      <td>0</td>\n",
              "    </tr>\n",
              "  </tbody>\n",
              "</table>\n",
              "</div>\n",
              "      <button class=\"colab-df-convert\" onclick=\"convertToInteractive('df-55fea33e-e8bd-4250-a91f-8c17172f8f71')\"\n",
              "              title=\"Convert this dataframe to an interactive table.\"\n",
              "              style=\"display:none;\">\n",
              "        \n",
              "  <svg xmlns=\"http://www.w3.org/2000/svg\" height=\"24px\"viewBox=\"0 0 24 24\"\n",
              "       width=\"24px\">\n",
              "    <path d=\"M0 0h24v24H0V0z\" fill=\"none\"/>\n",
              "    <path d=\"M18.56 5.44l.94 2.06.94-2.06 2.06-.94-2.06-.94-.94-2.06-.94 2.06-2.06.94zm-11 1L8.5 8.5l.94-2.06 2.06-.94-2.06-.94L8.5 2.5l-.94 2.06-2.06.94zm10 10l.94 2.06.94-2.06 2.06-.94-2.06-.94-.94-2.06-.94 2.06-2.06.94z\"/><path d=\"M17.41 7.96l-1.37-1.37c-.4-.4-.92-.59-1.43-.59-.52 0-1.04.2-1.43.59L10.3 9.45l-7.72 7.72c-.78.78-.78 2.05 0 2.83L4 21.41c.39.39.9.59 1.41.59.51 0 1.02-.2 1.41-.59l7.78-7.78 2.81-2.81c.8-.78.8-2.07 0-2.86zM5.41 20L4 18.59l7.72-7.72 1.47 1.35L5.41 20z\"/>\n",
              "  </svg>\n",
              "      </button>\n",
              "      \n",
              "  <style>\n",
              "    .colab-df-container {\n",
              "      display:flex;\n",
              "      flex-wrap:wrap;\n",
              "      gap: 12px;\n",
              "    }\n",
              "\n",
              "    .colab-df-convert {\n",
              "      background-color: #E8F0FE;\n",
              "      border: none;\n",
              "      border-radius: 50%;\n",
              "      cursor: pointer;\n",
              "      display: none;\n",
              "      fill: #1967D2;\n",
              "      height: 32px;\n",
              "      padding: 0 0 0 0;\n",
              "      width: 32px;\n",
              "    }\n",
              "\n",
              "    .colab-df-convert:hover {\n",
              "      background-color: #E2EBFA;\n",
              "      box-shadow: 0px 1px 2px rgba(60, 64, 67, 0.3), 0px 1px 3px 1px rgba(60, 64, 67, 0.15);\n",
              "      fill: #174EA6;\n",
              "    }\n",
              "\n",
              "    [theme=dark] .colab-df-convert {\n",
              "      background-color: #3B4455;\n",
              "      fill: #D2E3FC;\n",
              "    }\n",
              "\n",
              "    [theme=dark] .colab-df-convert:hover {\n",
              "      background-color: #434B5C;\n",
              "      box-shadow: 0px 1px 3px 1px rgba(0, 0, 0, 0.15);\n",
              "      filter: drop-shadow(0px 1px 2px rgba(0, 0, 0, 0.3));\n",
              "      fill: #FFFFFF;\n",
              "    }\n",
              "  </style>\n",
              "\n",
              "      <script>\n",
              "        const buttonEl =\n",
              "          document.querySelector('#df-55fea33e-e8bd-4250-a91f-8c17172f8f71 button.colab-df-convert');\n",
              "        buttonEl.style.display =\n",
              "          google.colab.kernel.accessAllowed ? 'block' : 'none';\n",
              "\n",
              "        async function convertToInteractive(key) {\n",
              "          const element = document.querySelector('#df-55fea33e-e8bd-4250-a91f-8c17172f8f71');\n",
              "          const dataTable =\n",
              "            await google.colab.kernel.invokeFunction('convertToInteractive',\n",
              "                                                     [key], {});\n",
              "          if (!dataTable) return;\n",
              "\n",
              "          const docLinkHtml = 'Like what you see? Visit the ' +\n",
              "            '<a target=\"_blank\" href=https://colab.research.google.com/notebooks/data_table.ipynb>data table notebook</a>'\n",
              "            + ' to learn more about interactive tables.';\n",
              "          element.innerHTML = '';\n",
              "          dataTable['output_type'] = 'display_data';\n",
              "          await google.colab.output.renderOutput(dataTable, element);\n",
              "          const docLink = document.createElement('div');\n",
              "          docLink.innerHTML = docLinkHtml;\n",
              "          element.appendChild(docLink);\n",
              "        }\n",
              "      </script>\n",
              "    </div>\n",
              "  </div>\n",
              "  "
            ]
          },
          "metadata": {},
          "execution_count": 808
        }
      ]
    },
    {
      "cell_type": "code",
      "source": [
        "train['experience'].value_counts()"
      ],
      "metadata": {
        "colab": {
          "base_uri": "https://localhost:8080/"
        },
        "id": "yg1JVcb-4zzy",
        "outputId": "ddd0d22b-0be9-4ac6-ed23-85f04eeb4742"
      },
      "execution_count": 809,
      "outputs": [
        {
          "output_type": "execute_result",
          "data": {
            "text/plain": [
              ">20    1881\n",
              "5       575\n",
              "10      551\n",
              "6       535\n",
              "9       533\n",
              "7       485\n",
              "4       480\n",
              "3       428\n",
              "8       398\n",
              "15      398\n",
              "11      372\n",
              "14      333\n",
              "16      304\n",
              "2       297\n",
              "12      293\n",
              "13      235\n",
              "17      206\n",
              "19      179\n",
              "18      168\n",
              "1       121\n",
              "<1       97\n",
              "20       86\n",
              "Name: experience, dtype: int64"
            ]
          },
          "metadata": {},
          "execution_count": 809
        }
      ]
    },
    {
      "cell_type": "code",
      "source": [
        "exp_20=train.loc[train['experience']=='>20']"
      ],
      "metadata": {
        "id": "IJG5qiVr40-w"
      },
      "execution_count": 810,
      "outputs": []
    },
    {
      "cell_type": "code",
      "source": [
        "exp_20.head()"
      ],
      "metadata": {
        "colab": {
          "base_uri": "https://localhost:8080/",
          "height": 357
        },
        "id": "TfV12LvG43VN",
        "outputId": "30e6b28a-7a71-4906-87d4-4a62a1d4b608"
      },
      "execution_count": 811,
      "outputs": [
        {
          "output_type": "execute_result",
          "data": {
            "text/plain": [
              "    enrollee_id      city  city_development_index  gender  \\\n",
              "1           666  city_162                   0.767    Male   \n",
              "5         25619   city_61                   0.913    Male   \n",
              "11        14928  city_103                   0.920    Male   \n",
              "13        26966  city_160                   0.920  Female   \n",
              "16        10164  city_114                   0.926    Male   \n",
              "\n",
              "        relevent_experience enrolled_university education_level  \\\n",
              "1   Has relevent experience       no_enrollment         Masters   \n",
              "5   Has relevent experience       no_enrollment        Graduate   \n",
              "11  Has relevent experience       no_enrollment        Graduate   \n",
              "13  Has relevent experience       no_enrollment        Graduate   \n",
              "16  Has relevent experience       no_enrollment             Phd   \n",
              "\n",
              "   major_discipline experience company_size    company_type last_new_job  \\\n",
              "1              STEM        >20        50-99  Funded Startup            4   \n",
              "5              STEM        >20    1000-4999         Pvt Ltd            3   \n",
              "11             STEM        >20      100-500         Pvt Ltd            3   \n",
              "13             STEM        >20      100-500         Pvt Ltd           >4   \n",
              "16             STEM        >20      100-500         Pvt Ltd            4   \n",
              "\n",
              "    training_hours  target  \n",
              "1                8       0  \n",
              "5               23       0  \n",
              "11              40       0  \n",
              "13              82       0  \n",
              "16              42       1  "
            ],
            "text/html": [
              "\n",
              "  <div id=\"df-1d123d92-dd2e-476e-8e1a-25c123244ea2\">\n",
              "    <div class=\"colab-df-container\">\n",
              "      <div>\n",
              "<style scoped>\n",
              "    .dataframe tbody tr th:only-of-type {\n",
              "        vertical-align: middle;\n",
              "    }\n",
              "\n",
              "    .dataframe tbody tr th {\n",
              "        vertical-align: top;\n",
              "    }\n",
              "\n",
              "    .dataframe thead th {\n",
              "        text-align: right;\n",
              "    }\n",
              "</style>\n",
              "<table border=\"1\" class=\"dataframe\">\n",
              "  <thead>\n",
              "    <tr style=\"text-align: right;\">\n",
              "      <th></th>\n",
              "      <th>enrollee_id</th>\n",
              "      <th>city</th>\n",
              "      <th>city_development_index</th>\n",
              "      <th>gender</th>\n",
              "      <th>relevent_experience</th>\n",
              "      <th>enrolled_university</th>\n",
              "      <th>education_level</th>\n",
              "      <th>major_discipline</th>\n",
              "      <th>experience</th>\n",
              "      <th>company_size</th>\n",
              "      <th>company_type</th>\n",
              "      <th>last_new_job</th>\n",
              "      <th>training_hours</th>\n",
              "      <th>target</th>\n",
              "    </tr>\n",
              "  </thead>\n",
              "  <tbody>\n",
              "    <tr>\n",
              "      <th>1</th>\n",
              "      <td>666</td>\n",
              "      <td>city_162</td>\n",
              "      <td>0.767</td>\n",
              "      <td>Male</td>\n",
              "      <td>Has relevent experience</td>\n",
              "      <td>no_enrollment</td>\n",
              "      <td>Masters</td>\n",
              "      <td>STEM</td>\n",
              "      <td>&gt;20</td>\n",
              "      <td>50-99</td>\n",
              "      <td>Funded Startup</td>\n",
              "      <td>4</td>\n",
              "      <td>8</td>\n",
              "      <td>0</td>\n",
              "    </tr>\n",
              "    <tr>\n",
              "      <th>5</th>\n",
              "      <td>25619</td>\n",
              "      <td>city_61</td>\n",
              "      <td>0.913</td>\n",
              "      <td>Male</td>\n",
              "      <td>Has relevent experience</td>\n",
              "      <td>no_enrollment</td>\n",
              "      <td>Graduate</td>\n",
              "      <td>STEM</td>\n",
              "      <td>&gt;20</td>\n",
              "      <td>1000-4999</td>\n",
              "      <td>Pvt Ltd</td>\n",
              "      <td>3</td>\n",
              "      <td>23</td>\n",
              "      <td>0</td>\n",
              "    </tr>\n",
              "    <tr>\n",
              "      <th>11</th>\n",
              "      <td>14928</td>\n",
              "      <td>city_103</td>\n",
              "      <td>0.920</td>\n",
              "      <td>Male</td>\n",
              "      <td>Has relevent experience</td>\n",
              "      <td>no_enrollment</td>\n",
              "      <td>Graduate</td>\n",
              "      <td>STEM</td>\n",
              "      <td>&gt;20</td>\n",
              "      <td>100-500</td>\n",
              "      <td>Pvt Ltd</td>\n",
              "      <td>3</td>\n",
              "      <td>40</td>\n",
              "      <td>0</td>\n",
              "    </tr>\n",
              "    <tr>\n",
              "      <th>13</th>\n",
              "      <td>26966</td>\n",
              "      <td>city_160</td>\n",
              "      <td>0.920</td>\n",
              "      <td>Female</td>\n",
              "      <td>Has relevent experience</td>\n",
              "      <td>no_enrollment</td>\n",
              "      <td>Graduate</td>\n",
              "      <td>STEM</td>\n",
              "      <td>&gt;20</td>\n",
              "      <td>100-500</td>\n",
              "      <td>Pvt Ltd</td>\n",
              "      <td>&gt;4</td>\n",
              "      <td>82</td>\n",
              "      <td>0</td>\n",
              "    </tr>\n",
              "    <tr>\n",
              "      <th>16</th>\n",
              "      <td>10164</td>\n",
              "      <td>city_114</td>\n",
              "      <td>0.926</td>\n",
              "      <td>Male</td>\n",
              "      <td>Has relevent experience</td>\n",
              "      <td>no_enrollment</td>\n",
              "      <td>Phd</td>\n",
              "      <td>STEM</td>\n",
              "      <td>&gt;20</td>\n",
              "      <td>100-500</td>\n",
              "      <td>Pvt Ltd</td>\n",
              "      <td>4</td>\n",
              "      <td>42</td>\n",
              "      <td>1</td>\n",
              "    </tr>\n",
              "  </tbody>\n",
              "</table>\n",
              "</div>\n",
              "      <button class=\"colab-df-convert\" onclick=\"convertToInteractive('df-1d123d92-dd2e-476e-8e1a-25c123244ea2')\"\n",
              "              title=\"Convert this dataframe to an interactive table.\"\n",
              "              style=\"display:none;\">\n",
              "        \n",
              "  <svg xmlns=\"http://www.w3.org/2000/svg\" height=\"24px\"viewBox=\"0 0 24 24\"\n",
              "       width=\"24px\">\n",
              "    <path d=\"M0 0h24v24H0V0z\" fill=\"none\"/>\n",
              "    <path d=\"M18.56 5.44l.94 2.06.94-2.06 2.06-.94-2.06-.94-.94-2.06-.94 2.06-2.06.94zm-11 1L8.5 8.5l.94-2.06 2.06-.94-2.06-.94L8.5 2.5l-.94 2.06-2.06.94zm10 10l.94 2.06.94-2.06 2.06-.94-2.06-.94-.94-2.06-.94 2.06-2.06.94z\"/><path d=\"M17.41 7.96l-1.37-1.37c-.4-.4-.92-.59-1.43-.59-.52 0-1.04.2-1.43.59L10.3 9.45l-7.72 7.72c-.78.78-.78 2.05 0 2.83L4 21.41c.39.39.9.59 1.41.59.51 0 1.02-.2 1.41-.59l7.78-7.78 2.81-2.81c.8-.78.8-2.07 0-2.86zM5.41 20L4 18.59l7.72-7.72 1.47 1.35L5.41 20z\"/>\n",
              "  </svg>\n",
              "      </button>\n",
              "      \n",
              "  <style>\n",
              "    .colab-df-container {\n",
              "      display:flex;\n",
              "      flex-wrap:wrap;\n",
              "      gap: 12px;\n",
              "    }\n",
              "\n",
              "    .colab-df-convert {\n",
              "      background-color: #E8F0FE;\n",
              "      border: none;\n",
              "      border-radius: 50%;\n",
              "      cursor: pointer;\n",
              "      display: none;\n",
              "      fill: #1967D2;\n",
              "      height: 32px;\n",
              "      padding: 0 0 0 0;\n",
              "      width: 32px;\n",
              "    }\n",
              "\n",
              "    .colab-df-convert:hover {\n",
              "      background-color: #E2EBFA;\n",
              "      box-shadow: 0px 1px 2px rgba(60, 64, 67, 0.3), 0px 1px 3px 1px rgba(60, 64, 67, 0.15);\n",
              "      fill: #174EA6;\n",
              "    }\n",
              "\n",
              "    [theme=dark] .colab-df-convert {\n",
              "      background-color: #3B4455;\n",
              "      fill: #D2E3FC;\n",
              "    }\n",
              "\n",
              "    [theme=dark] .colab-df-convert:hover {\n",
              "      background-color: #434B5C;\n",
              "      box-shadow: 0px 1px 3px 1px rgba(0, 0, 0, 0.15);\n",
              "      filter: drop-shadow(0px 1px 2px rgba(0, 0, 0, 0.3));\n",
              "      fill: #FFFFFF;\n",
              "    }\n",
              "  </style>\n",
              "\n",
              "      <script>\n",
              "        const buttonEl =\n",
              "          document.querySelector('#df-1d123d92-dd2e-476e-8e1a-25c123244ea2 button.colab-df-convert');\n",
              "        buttonEl.style.display =\n",
              "          google.colab.kernel.accessAllowed ? 'block' : 'none';\n",
              "\n",
              "        async function convertToInteractive(key) {\n",
              "          const element = document.querySelector('#df-1d123d92-dd2e-476e-8e1a-25c123244ea2');\n",
              "          const dataTable =\n",
              "            await google.colab.kernel.invokeFunction('convertToInteractive',\n",
              "                                                     [key], {});\n",
              "          if (!dataTable) return;\n",
              "\n",
              "          const docLinkHtml = 'Like what you see? Visit the ' +\n",
              "            '<a target=\"_blank\" href=https://colab.research.google.com/notebooks/data_table.ipynb>data table notebook</a>'\n",
              "            + ' to learn more about interactive tables.';\n",
              "          element.innerHTML = '';\n",
              "          dataTable['output_type'] = 'display_data';\n",
              "          await google.colab.output.renderOutput(dataTable, element);\n",
              "          const docLink = document.createElement('div');\n",
              "          docLink.innerHTML = docLinkHtml;\n",
              "          element.appendChild(docLink);\n",
              "        }\n",
              "      </script>\n",
              "    </div>\n",
              "  </div>\n",
              "  "
            ]
          },
          "metadata": {},
          "execution_count": 811
        }
      ]
    },
    {
      "cell_type": "code",
      "source": [
        "plt.figure(figsize=(12,6))\n",
        "sns.distplot(exp_20['training_hours'],color='maroon')\n",
        "plt.show()"
      ],
      "metadata": {
        "colab": {
          "base_uri": "https://localhost:8080/",
          "height": 444
        },
        "id": "HkZ5utuk44iT",
        "outputId": "69ff986c-2a80-4765-fb55-ec96c89a49f4"
      },
      "execution_count": 812,
      "outputs": [
        {
          "output_type": "stream",
          "name": "stderr",
          "text": [
            "/usr/local/lib/python3.7/dist-packages/seaborn/distributions.py:2619: FutureWarning: `distplot` is a deprecated function and will be removed in a future version. Please adapt your code to use either `displot` (a figure-level function with similar flexibility) or `histplot` (an axes-level function for histograms).\n",
            "  warnings.warn(msg, FutureWarning)\n"
          ]
        },
        {
          "output_type": "display_data",
          "data": {
            "text/plain": [
              "<Figure size 864x432 with 1 Axes>"
            ],
            "image/png": "[encoded data removed]"
          },
          "metadata": {
            "needs_background": "light"
          }
        }
      ]
    },
    {
      "cell_type": "code",
      "source": [
        "plt.figure(figsize=(12,6))\n",
        "sns.countplot(exp_20['company_size'])\n",
        "plt.show()"
      ],
      "metadata": {
        "colab": {
          "base_uri": "https://localhost:8080/",
          "height": 444
        },
        "id": "0y4ykn1x46A7",
        "outputId": "73f87073-e528-40d8-a411-4d78439c77d4"
      },
      "execution_count": 813,
      "outputs": [
        {
          "output_type": "stream",
          "name": "stderr",
          "text": [
            "/usr/local/lib/python3.7/dist-packages/seaborn/_decorators.py:43: FutureWarning: Pass the following variable as a keyword arg: x. From version 0.12, the only valid positional argument will be `data`, and passing other arguments without an explicit keyword will result in an error or misinterpretation.\n",
            "  FutureWarning\n"
          ]
        },
        {
          "output_type": "display_data",
          "data": {
            "text/plain": [
              "<Figure size 864x432 with 1 Axes>"
            ],
            "image/png": "[encoded data removed]"
          },
          "metadata": {
            "needs_background": "light"
          }
        }
      ]
    },
    {
      "cell_type": "code",
      "source": [
        "plt.figure(figsize=(12,6))\n",
        "sns.countplot(exp_20['company_type'])\n",
        "plt.show()"
      ],
      "metadata": {
        "colab": {
          "base_uri": "https://localhost:8080/",
          "height": 443
        },
        "id": "SWFK4-UZ47ZF",
        "outputId": "490a1f44-a265-4d88-830d-fb1a910aaf0d"
      },
      "execution_count": 814,
      "outputs": [
        {
          "output_type": "stream",
          "name": "stderr",
          "text": [
            "/usr/local/lib/python3.7/dist-packages/seaborn/_decorators.py:43: FutureWarning: Pass the following variable as a keyword arg: x. From version 0.12, the only valid positional argument will be `data`, and passing other arguments without an explicit keyword will result in an error or misinterpretation.\n",
            "  FutureWarning\n"
          ]
        },
        {
          "output_type": "display_data",
          "data": {
            "text/plain": [
              "<Figure size 864x432 with 1 Axes>"
            ],
            "image/png": "[encoded data removed]"
          },
          "metadata": {
            "needs_background": "light"
          }
        }
      ]
    },
    {
      "cell_type": "code",
      "source": [
        "train.head()"
      ],
      "metadata": {
        "colab": {
          "base_uri": "https://localhost:8080/",
          "height": 340
        },
        "id": "34zO3oqX484n",
        "outputId": "ee17f2b3-2c97-4362-b1b0-836e79528eed"
      },
      "execution_count": 815,
      "outputs": [
        {
          "output_type": "execute_result",
          "data": {
            "text/plain": [
              "   enrollee_id      city  city_development_index gender  \\\n",
              "0        29725   city_40                   0.776   Male   \n",
              "1          666  city_162                   0.767   Male   \n",
              "2          402   city_46                   0.762   Male   \n",
              "3        27107  city_103                   0.920   Male   \n",
              "4        23853  city_103                   0.920   Male   \n",
              "\n",
              "       relevent_experience enrolled_university education_level  \\\n",
              "0   No relevent experience       no_enrollment        Graduate   \n",
              "1  Has relevent experience       no_enrollment         Masters   \n",
              "2  Has relevent experience       no_enrollment        Graduate   \n",
              "3  Has relevent experience       no_enrollment        Graduate   \n",
              "4  Has relevent experience       no_enrollment        Graduate   \n",
              "\n",
              "  major_discipline experience company_size    company_type last_new_job  \\\n",
              "0             STEM         15        50-99         Pvt Ltd           >4   \n",
              "1             STEM        >20        50-99  Funded Startup            4   \n",
              "2             STEM         13          <10         Pvt Ltd           >4   \n",
              "3             STEM          7        50-99         Pvt Ltd            1   \n",
              "4             STEM          5    5000-9999         Pvt Ltd            1   \n",
              "\n",
              "   training_hours  target  \n",
              "0              47       0  \n",
              "1               8       0  \n",
              "2              18       1  \n",
              "3              46       1  \n",
              "4             108       0  "
            ],
            "text/html": [
              "\n",
              "  <div id=\"df-2200ceb5-1bf3-4a4f-af20-6837b683257f\">\n",
              "    <div class=\"colab-df-container\">\n",
              "      <div>\n",
              "<style scoped>\n",
              "    .dataframe tbody tr th:only-of-type {\n",
              "        vertical-align: middle;\n",
              "    }\n",
              "\n",
              "    .dataframe tbody tr th {\n",
              "        vertical-align: top;\n",
              "    }\n",
              "\n",
              "    .dataframe thead th {\n",
              "        text-align: right;\n",
              "    }\n",
              "</style>\n",
              "<table border=\"1\" class=\"dataframe\">\n",
              "  <thead>\n",
              "    <tr style=\"text-align: right;\">\n",
              "      <th></th>\n",
              "      <th>enrollee_id</th>\n",
              "      <th>city</th>\n",
              "      <th>city_development_index</th>\n",
              "      <th>gender</th>\n",
              "      <th>relevent_experience</th>\n",
              "      <th>enrolled_university</th>\n",
              "      <th>education_level</th>\n",
              "      <th>major_discipline</th>\n",
              "      <th>experience</th>\n",
              "      <th>company_size</th>\n",
              "      <th>company_type</th>\n",
              "      <th>last_new_job</th>\n",
              "      <th>training_hours</th>\n",
              "      <th>target</th>\n",
              "    </tr>\n",
              "  </thead>\n",
              "  <tbody>\n",
              "    <tr>\n",
              "      <th>0</th>\n",
              "      <td>29725</td>\n",
              "      <td>city_40</td>\n",
              "      <td>0.776</td>\n",
              "      <td>Male</td>\n",
              "      <td>No relevent experience</td>\n",
              "      <td>no_enrollment</td>\n",
              "      <td>Graduate</td>\n",
              "      <td>STEM</td>\n",
              "      <td>15</td>\n",
              "      <td>50-99</td>\n",
              "      <td>Pvt Ltd</td>\n",
              "      <td>&gt;4</td>\n",
              "      <td>47</td>\n",
              "      <td>0</td>\n",
              "    </tr>\n",
              "    <tr>\n",
              "      <th>1</th>\n",
              "      <td>666</td>\n",
              "      <td>city_162</td>\n",
              "      <td>0.767</td>\n",
              "      <td>Male</td>\n",
              "      <td>Has relevent experience</td>\n",
              "      <td>no_enrollment</td>\n",
              "      <td>Masters</td>\n",
              "      <td>STEM</td>\n",
              "      <td>&gt;20</td>\n",
              "      <td>50-99</td>\n",
              "      <td>Funded Startup</td>\n",
              "      <td>4</td>\n",
              "      <td>8</td>\n",
              "      <td>0</td>\n",
              "    </tr>\n",
              "    <tr>\n",
              "      <th>2</th>\n",
              "      <td>402</td>\n",
              "      <td>city_46</td>\n",
              "      <td>0.762</td>\n",
              "      <td>Male</td>\n",
              "      <td>Has relevent experience</td>\n",
              "      <td>no_enrollment</td>\n",
              "      <td>Graduate</td>\n",
              "      <td>STEM</td>\n",
              "      <td>13</td>\n",
              "      <td>&lt;10</td>\n",
              "      <td>Pvt Ltd</td>\n",
              "      <td>&gt;4</td>\n",
              "      <td>18</td>\n",
              "      <td>1</td>\n",
              "    </tr>\n",
              "    <tr>\n",
              "      <th>3</th>\n",
              "      <td>27107</td>\n",
              "      <td>city_103</td>\n",
              "      <td>0.920</td>\n",
              "      <td>Male</td>\n",
              "      <td>Has relevent experience</td>\n",
              "      <td>no_enrollment</td>\n",
              "      <td>Graduate</td>\n",
              "      <td>STEM</td>\n",
              "      <td>7</td>\n",
              "      <td>50-99</td>\n",
              "      <td>Pvt Ltd</td>\n",
              "      <td>1</td>\n",
              "      <td>46</td>\n",
              "      <td>1</td>\n",
              "    </tr>\n",
              "    <tr>\n",
              "      <th>4</th>\n",
              "      <td>23853</td>\n",
              "      <td>city_103</td>\n",
              "      <td>0.920</td>\n",
              "      <td>Male</td>\n",
              "      <td>Has relevent experience</td>\n",
              "      <td>no_enrollment</td>\n",
              "      <td>Graduate</td>\n",
              "      <td>STEM</td>\n",
              "      <td>5</td>\n",
              "      <td>5000-9999</td>\n",
              "      <td>Pvt Ltd</td>\n",
              "      <td>1</td>\n",
              "      <td>108</td>\n",
              "      <td>0</td>\n",
              "    </tr>\n",
              "  </tbody>\n",
              "</table>\n",
              "</div>\n",
              "      <button class=\"colab-df-convert\" onclick=\"convertToInteractive('df-2200ceb5-1bf3-4a4f-af20-6837b683257f')\"\n",
              "              title=\"Convert this dataframe to an interactive table.\"\n",
              "              style=\"display:none;\">\n",
              "        \n",
              "  <svg xmlns=\"http://www.w3.org/2000/svg\" height=\"24px\"viewBox=\"0 0 24 24\"\n",
              "       width=\"24px\">\n",
              "    <path d=\"M0 0h24v24H0V0z\" fill=\"none\"/>\n",
              "    <path d=\"M18.56 5.44l.94 2.06.94-2.06 2.06-.94-2.06-.94-.94-2.06-.94 2.06-2.06.94zm-11 1L8.5 8.5l.94-2.06 2.06-.94-2.06-.94L8.5 2.5l-.94 2.06-2.06.94zm10 10l.94 2.06.94-2.06 2.06-.94-2.06-.94-.94-2.06-.94 2.06-2.06.94z\"/><path d=\"M17.41 7.96l-1.37-1.37c-.4-.4-.92-.59-1.43-.59-.52 0-1.04.2-1.43.59L10.3 9.45l-7.72 7.72c-.78.78-.78 2.05 0 2.83L4 21.41c.39.39.9.59 1.41.59.51 0 1.02-.2 1.41-.59l7.78-7.78 2.81-2.81c.8-.78.8-2.07 0-2.86zM5.41 20L4 18.59l7.72-7.72 1.47 1.35L5.41 20z\"/>\n",
              "  </svg>\n",
              "      </button>\n",
              "      \n",
              "  <style>\n",
              "    .colab-df-container {\n",
              "      display:flex;\n",
              "      flex-wrap:wrap;\n",
              "      gap: 12px;\n",
              "    }\n",
              "\n",
              "    .colab-df-convert {\n",
              "      background-color: #E8F0FE;\n",
              "      border: none;\n",
              "      border-radius: 50%;\n",
              "      cursor: pointer;\n",
              "      display: none;\n",
              "      fill: #1967D2;\n",
              "      height: 32px;\n",
              "      padding: 0 0 0 0;\n",
              "      width: 32px;\n",
              "    }\n",
              "\n",
              "    .colab-df-convert:hover {\n",
              "      background-color: #E2EBFA;\n",
              "      box-shadow: 0px 1px 2px rgba(60, 64, 67, 0.3), 0px 1px 3px 1px rgba(60, 64, 67, 0.15);\n",
              "      fill: #174EA6;\n",
              "    }\n",
              "\n",
              "    [theme=dark] .colab-df-convert {\n",
              "      background-color: #3B4455;\n",
              "      fill: #D2E3FC;\n",
              "    }\n",
              "\n",
              "    [theme=dark] .colab-df-convert:hover {\n",
              "      background-color: #434B5C;\n",
              "      box-shadow: 0px 1px 3px 1px rgba(0, 0, 0, 0.15);\n",
              "      filter: drop-shadow(0px 1px 2px rgba(0, 0, 0, 0.3));\n",
              "      fill: #FFFFFF;\n",
              "    }\n",
              "  </style>\n",
              "\n",
              "      <script>\n",
              "        const buttonEl =\n",
              "          document.querySelector('#df-2200ceb5-1bf3-4a4f-af20-6837b683257f button.colab-df-convert');\n",
              "        buttonEl.style.display =\n",
              "          google.colab.kernel.accessAllowed ? 'block' : 'none';\n",
              "\n",
              "        async function convertToInteractive(key) {\n",
              "          const element = document.querySelector('#df-2200ceb5-1bf3-4a4f-af20-6837b683257f');\n",
              "          const dataTable =\n",
              "            await google.colab.kernel.invokeFunction('convertToInteractive',\n",
              "                                                     [key], {});\n",
              "          if (!dataTable) return;\n",
              "\n",
              "          const docLinkHtml = 'Like what you see? Visit the ' +\n",
              "            '<a target=\"_blank\" href=https://colab.research.google.com/notebooks/data_table.ipynb>data table notebook</a>'\n",
              "            + ' to learn more about interactive tables.';\n",
              "          element.innerHTML = '';\n",
              "          dataTable['output_type'] = 'display_data';\n",
              "          await google.colab.output.renderOutput(dataTable, element);\n",
              "          const docLink = document.createElement('div');\n",
              "          docLink.innerHTML = docLinkHtml;\n",
              "          element.appendChild(docLink);\n",
              "        }\n",
              "      </script>\n",
              "    </div>\n",
              "  </div>\n",
              "  "
            ]
          },
          "metadata": {},
          "execution_count": 815
        }
      ]
    },
    {
      "cell_type": "code",
      "source": [
        "train['target']=train['target'].astype('int64')"
      ],
      "metadata": {
        "id": "XwH7CrBi4-JL"
      },
      "execution_count": 816,
      "outputs": []
    },
    {
      "cell_type": "markdown",
      "source": [
        "#Comparing features with target\n",
        "\n",
        "## 0- Not looking for job\n",
        "## 1- Looking for job"
      ],
      "metadata": {
        "id": "P9cQdtEg-5ft"
      }
    },
    {
      "cell_type": "code",
      "source": [
        "plt.figure(figsize=(12,6))\n",
        "sns.countplot(x=\"gender\",hue=\"target\",data=train,palette=['yellow',\"orange\"])\n",
        "plt.show()"
      ],
      "metadata": {
        "colab": {
          "base_uri": "https://localhost:8080/",
          "height": 389
        },
        "id": "ywH0AaOl4_1Z",
        "outputId": "57a7ed7f-8b06-4da0-c4d6-47d75e6ea922"
      },
      "execution_count": 817,
      "outputs": [
        {
          "output_type": "display_data",
          "data": {
            "text/plain": [
              "<Figure size 864x432 with 1 Axes>"
            ],
            "image/png": "[encoded data removed]"
          },
          "metadata": {
            "needs_background": "light"
          }
        }
      ]
    },
    {
      "cell_type": "code",
      "source": [
        "plt.figure(figsize=(12,6))\n",
        "sns.countplot(x=\"relevent_experience\",hue=\"target\",data=train,palette=['green',\"cyan\"])\n",
        "plt.show()"
      ],
      "metadata": {
        "colab": {
          "base_uri": "https://localhost:8080/",
          "height": 389
        },
        "id": "rn65GlDo5BCI",
        "outputId": "32e829ab-3b26-4554-9809-193202ec0218"
      },
      "execution_count": 818,
      "outputs": [
        {
          "output_type": "display_data",
          "data": {
            "text/plain": [
              "<Figure size 864x432 with 1 Axes>"
            ],
            "image/png": "[encoded data removed]"
          },
          "metadata": {
            "needs_background": "light"
          }
        }
      ]
    },
    {
      "cell_type": "code",
      "source": [
        "plt.figure(figsize=(12,6))\n",
        "sns.countplot(x=\"experience\",hue=\"target\",data=train,palette=['blue',\"red\"])\n",
        "plt.show()"
      ],
      "metadata": {
        "colab": {
          "base_uri": "https://localhost:8080/",
          "height": 388
        },
        "id": "OHv-THER5Cq6",
        "outputId": "0e805240-4c4b-48ab-a2de-48a479b64e95"
      },
      "execution_count": 819,
      "outputs": [
        {
          "output_type": "display_data",
          "data": {
            "text/plain": [
              "<Figure size 864x432 with 1 Axes>"
            ],
            "image/png": "[encoded data removed]"
          },
          "metadata": {
            "needs_background": "light"
          }
        }
      ]
    },
    {
      "cell_type": "code",
      "source": [
        "plt.figure(figsize=(12,6))\n",
        "sns.countplot(x=\"company_size\",hue=\"target\",data=train,palette=['pink',\"violet\"])\n",
        "plt.show()"
      ],
      "metadata": {
        "colab": {
          "base_uri": "https://localhost:8080/",
          "height": 389
        },
        "id": "jzR2YRja5D93",
        "outputId": "ae3d61b8-50e4-4eb5-91d1-5ec435b8ce08"
      },
      "execution_count": 820,
      "outputs": [
        {
          "output_type": "display_data",
          "data": {
            "text/plain": [
              "<Figure size 864x432 with 1 Axes>"
            ],
            "image/png": "[encoded data removed]"
          },
          "metadata": {
            "needs_background": "light"
          }
        }
      ]
    },
    {
      "cell_type": "code",
      "source": [
        "plt.figure(figsize=(12,6))\n",
        "sns.countplot(x=\"company_type\",hue=\"target\",data=train,palette=['lime',\"cyan\"])\n",
        "plt.show()"
      ],
      "metadata": {
        "colab": {
          "base_uri": "https://localhost:8080/",
          "height": 388
        },
        "id": "FKh2VNo35FhO",
        "outputId": "6e307460-1289-4d1d-9174-f43f081796b0"
      },
      "execution_count": 821,
      "outputs": [
        {
          "output_type": "display_data",
          "data": {
            "text/plain": [
              "<Figure size 864x432 with 1 Axes>"
            ],
            "image/png": "[encoded data removed]"
          },
          "metadata": {
            "needs_background": "light"
          }
        }
      ]
    },
    {
      "cell_type": "code",
      "source": [
        "plt.figure(figsize=(12,6))\n",
        "sns.countplot(x=\"last_new_job\",hue=\"target\",data=train,palette=['yellow',\"orange\"])\n",
        "plt.show()"
      ],
      "metadata": {
        "colab": {
          "base_uri": "https://localhost:8080/",
          "height": 389
        },
        "id": "XfpOZUJ25Hvz",
        "outputId": "9e9510e6-b507-4ae0-edb6-0500b761974a"
      },
      "execution_count": 822,
      "outputs": [
        {
          "output_type": "display_data",
          "data": {
            "text/plain": [
              "<Figure size 864x432 with 1 Axes>"
            ],
            "image/png": "[encoded data removed]"
          },
          "metadata": {
            "needs_background": "light"
          }
        }
      ]
    },
    {
      "cell_type": "code",
      "source": [
        "train.head()"
      ],
      "metadata": {
        "colab": {
          "base_uri": "https://localhost:8080/",
          "height": 340
        },
        "id": "vF7QQvjA5JHt",
        "outputId": "0a7d34fc-f325-4a4a-de92-13a7577cfca6"
      },
      "execution_count": 823,
      "outputs": [
        {
          "output_type": "execute_result",
          "data": {
            "text/plain": [
              "   enrollee_id      city  city_development_index gender  \\\n",
              "0        29725   city_40                   0.776   Male   \n",
              "1          666  city_162                   0.767   Male   \n",
              "2          402   city_46                   0.762   Male   \n",
              "3        27107  city_103                   0.920   Male   \n",
              "4        23853  city_103                   0.920   Male   \n",
              "\n",
              "       relevent_experience enrolled_university education_level  \\\n",
              "0   No relevent experience       no_enrollment        Graduate   \n",
              "1  Has relevent experience       no_enrollment         Masters   \n",
              "2  Has relevent experience       no_enrollment        Graduate   \n",
              "3  Has relevent experience       no_enrollment        Graduate   \n",
              "4  Has relevent experience       no_enrollment        Graduate   \n",
              "\n",
              "  major_discipline experience company_size    company_type last_new_job  \\\n",
              "0             STEM         15        50-99         Pvt Ltd           >4   \n",
              "1             STEM        >20        50-99  Funded Startup            4   \n",
              "2             STEM         13          <10         Pvt Ltd           >4   \n",
              "3             STEM          7        50-99         Pvt Ltd            1   \n",
              "4             STEM          5    5000-9999         Pvt Ltd            1   \n",
              "\n",
              "   training_hours  target  \n",
              "0              47       0  \n",
              "1               8       0  \n",
              "2              18       1  \n",
              "3              46       1  \n",
              "4             108       0  "
            ],
            "text/html": [
              "\n",
              "  <div id=\"df-7b0bb902-fde3-4863-818b-102bd54b0b95\">\n",
              "    <div class=\"colab-df-container\">\n",
              "      <div>\n",
              "<style scoped>\n",
              "    .dataframe tbody tr th:only-of-type {\n",
              "        vertical-align: middle;\n",
              "    }\n",
              "\n",
              "    .dataframe tbody tr th {\n",
              "        vertical-align: top;\n",
              "    }\n",
              "\n",
              "    .dataframe thead th {\n",
              "        text-align: right;\n",
              "    }\n",
              "</style>\n",
              "<table border=\"1\" class=\"dataframe\">\n",
              "  <thead>\n",
              "    <tr style=\"text-align: right;\">\n",
              "      <th></th>\n",
              "      <th>enrollee_id</th>\n",
              "      <th>city</th>\n",
              "      <th>city_development_index</th>\n",
              "      <th>gender</th>\n",
              "      <th>relevent_experience</th>\n",
              "      <th>enrolled_university</th>\n",
              "      <th>education_level</th>\n",
              "      <th>major_discipline</th>\n",
              "      <th>experience</th>\n",
              "      <th>company_size</th>\n",
              "      <th>company_type</th>\n",
              "      <th>last_new_job</th>\n",
              "      <th>training_hours</th>\n",
              "      <th>target</th>\n",
              "    </tr>\n",
              "  </thead>\n",
              "  <tbody>\n",
              "    <tr>\n",
              "      <th>0</th>\n",
              "      <td>29725</td>\n",
              "      <td>city_40</td>\n",
              "      <td>0.776</td>\n",
              "      <td>Male</td>\n",
              "      <td>No relevent experience</td>\n",
              "      <td>no_enrollment</td>\n",
              "      <td>Graduate</td>\n",
              "      <td>STEM</td>\n",
              "      <td>15</td>\n",
              "      <td>50-99</td>\n",
              "      <td>Pvt Ltd</td>\n",
              "      <td>&gt;4</td>\n",
              "      <td>47</td>\n",
              "      <td>0</td>\n",
              "    </tr>\n",
              "    <tr>\n",
              "      <th>1</th>\n",
              "      <td>666</td>\n",
              "      <td>city_162</td>\n",
              "      <td>0.767</td>\n",
              "      <td>Male</td>\n",
              "      <td>Has relevent experience</td>\n",
              "      <td>no_enrollment</td>\n",
              "      <td>Masters</td>\n",
              "      <td>STEM</td>\n",
              "      <td>&gt;20</td>\n",
              "      <td>50-99</td>\n",
              "      <td>Funded Startup</td>\n",
              "      <td>4</td>\n",
              "      <td>8</td>\n",
              "      <td>0</td>\n",
              "    </tr>\n",
              "    <tr>\n",
              "      <th>2</th>\n",
              "      <td>402</td>\n",
              "      <td>city_46</td>\n",
              "      <td>0.762</td>\n",
              "      <td>Male</td>\n",
              "      <td>Has relevent experience</td>\n",
              "      <td>no_enrollment</td>\n",
              "      <td>Graduate</td>\n",
              "      <td>STEM</td>\n",
              "      <td>13</td>\n",
              "      <td>&lt;10</td>\n",
              "      <td>Pvt Ltd</td>\n",
              "      <td>&gt;4</td>\n",
              "      <td>18</td>\n",
              "      <td>1</td>\n",
              "    </tr>\n",
              "    <tr>\n",
              "      <th>3</th>\n",
              "      <td>27107</td>\n",
              "      <td>city_103</td>\n",
              "      <td>0.920</td>\n",
              "      <td>Male</td>\n",
              "      <td>Has relevent experience</td>\n",
              "      <td>no_enrollment</td>\n",
              "      <td>Graduate</td>\n",
              "      <td>STEM</td>\n",
              "      <td>7</td>\n",
              "      <td>50-99</td>\n",
              "      <td>Pvt Ltd</td>\n",
              "      <td>1</td>\n",
              "      <td>46</td>\n",
              "      <td>1</td>\n",
              "    </tr>\n",
              "    <tr>\n",
              "      <th>4</th>\n",
              "      <td>23853</td>\n",
              "      <td>city_103</td>\n",
              "      <td>0.920</td>\n",
              "      <td>Male</td>\n",
              "      <td>Has relevent experience</td>\n",
              "      <td>no_enrollment</td>\n",
              "      <td>Graduate</td>\n",
              "      <td>STEM</td>\n",
              "      <td>5</td>\n",
              "      <td>5000-9999</td>\n",
              "      <td>Pvt Ltd</td>\n",
              "      <td>1</td>\n",
              "      <td>108</td>\n",
              "      <td>0</td>\n",
              "    </tr>\n",
              "  </tbody>\n",
              "</table>\n",
              "</div>\n",
              "      <button class=\"colab-df-convert\" onclick=\"convertToInteractive('df-7b0bb902-fde3-4863-818b-102bd54b0b95')\"\n",
              "              title=\"Convert this dataframe to an interactive table.\"\n",
              "              style=\"display:none;\">\n",
              "        \n",
              "  <svg xmlns=\"http://www.w3.org/2000/svg\" height=\"24px\"viewBox=\"0 0 24 24\"\n",
              "       width=\"24px\">\n",
              "    <path d=\"M0 0h24v24H0V0z\" fill=\"none\"/>\n",
              "    <path d=\"M18.56 5.44l.94 2.06.94-2.06 2.06-.94-2.06-.94-.94-2.06-.94 2.06-2.06.94zm-11 1L8.5 8.5l.94-2.06 2.06-.94-2.06-.94L8.5 2.5l-.94 2.06-2.06.94zm10 10l.94 2.06.94-2.06 2.06-.94-2.06-.94-.94-2.06-.94 2.06-2.06.94z\"/><path d=\"M17.41 7.96l-1.37-1.37c-.4-.4-.92-.59-1.43-.59-.52 0-1.04.2-1.43.59L10.3 9.45l-7.72 7.72c-.78.78-.78 2.05 0 2.83L4 21.41c.39.39.9.59 1.41.59.51 0 1.02-.2 1.41-.59l7.78-7.78 2.81-2.81c.8-.78.8-2.07 0-2.86zM5.41 20L4 18.59l7.72-7.72 1.47 1.35L5.41 20z\"/>\n",
              "  </svg>\n",
              "      </button>\n",
              "      \n",
              "  <style>\n",
              "    .colab-df-container {\n",
              "      display:flex;\n",
              "      flex-wrap:wrap;\n",
              "      gap: 12px;\n",
              "    }\n",
              "\n",
              "    .colab-df-convert {\n",
              "      background-color: #E8F0FE;\n",
              "      border: none;\n",
              "      border-radius: 50%;\n",
              "      cursor: pointer;\n",
              "      display: none;\n",
              "      fill: #1967D2;\n",
              "      height: 32px;\n",
              "      padding: 0 0 0 0;\n",
              "      width: 32px;\n",
              "    }\n",
              "\n",
              "    .colab-df-convert:hover {\n",
              "      background-color: #E2EBFA;\n",
              "      box-shadow: 0px 1px 2px rgba(60, 64, 67, 0.3), 0px 1px 3px 1px rgba(60, 64, 67, 0.15);\n",
              "      fill: #174EA6;\n",
              "    }\n",
              "\n",
              "    [theme=dark] .colab-df-convert {\n",
              "      background-color: #3B4455;\n",
              "      fill: #D2E3FC;\n",
              "    }\n",
              "\n",
              "    [theme=dark] .colab-df-convert:hover {\n",
              "      background-color: #434B5C;\n",
              "      box-shadow: 0px 1px 3px 1px rgba(0, 0, 0, 0.15);\n",
              "      filter: drop-shadow(0px 1px 2px rgba(0, 0, 0, 0.3));\n",
              "      fill: #FFFFFF;\n",
              "    }\n",
              "  </style>\n",
              "\n",
              "      <script>\n",
              "        const buttonEl =\n",
              "          document.querySelector('#df-7b0bb902-fde3-4863-818b-102bd54b0b95 button.colab-df-convert');\n",
              "        buttonEl.style.display =\n",
              "          google.colab.kernel.accessAllowed ? 'block' : 'none';\n",
              "\n",
              "        async function convertToInteractive(key) {\n",
              "          const element = document.querySelector('#df-7b0bb902-fde3-4863-818b-102bd54b0b95');\n",
              "          const dataTable =\n",
              "            await google.colab.kernel.invokeFunction('convertToInteractive',\n",
              "                                                     [key], {});\n",
              "          if (!dataTable) return;\n",
              "\n",
              "          const docLinkHtml = 'Like what you see? Visit the ' +\n",
              "            '<a target=\"_blank\" href=https://colab.research.google.com/notebooks/data_table.ipynb>data table notebook</a>'\n",
              "            + ' to learn more about interactive tables.';\n",
              "          element.innerHTML = '';\n",
              "          dataTable['output_type'] = 'display_data';\n",
              "          await google.colab.output.renderOutput(dataTable, element);\n",
              "          const docLink = document.createElement('div');\n",
              "          docLink.innerHTML = docLinkHtml;\n",
              "          element.appendChild(docLink);\n",
              "        }\n",
              "      </script>\n",
              "    </div>\n",
              "  </div>\n",
              "  "
            ]
          },
          "metadata": {},
          "execution_count": 823
        }
      ]
    },
    {
      "cell_type": "code",
      "source": [
        "train['relevent_experience']=train['relevent_experience'].replace({'No relevent experience':0,'Has relevent experience':1})"
      ],
      "metadata": {
        "id": "-VreuwuR5Khn"
      },
      "execution_count": 824,
      "outputs": []
    },
    {
      "cell_type": "code",
      "source": [
        "dummies=pd.get_dummies(train[['enrolled_university']])\n",
        "train = pd.concat([train.drop(['enrolled_university'],axis=1), dummies],axis=1)"
      ],
      "metadata": {
        "id": "XPOo5EMG5MNs"
      },
      "execution_count": 825,
      "outputs": []
    },
    {
      "cell_type": "code",
      "source": [
        "dummies=pd.get_dummies(train[['gender']])\n",
        "train = pd.concat([train.drop(['gender'],axis=1), dummies],axis=1)"
      ],
      "metadata": {
        "id": "MAg659FM5NpR"
      },
      "execution_count": 826,
      "outputs": []
    },
    {
      "cell_type": "code",
      "source": [
        "train=train.drop(\"education_level\",axis=1)"
      ],
      "metadata": {
        "id": "Jt-02QHX5Osb"
      },
      "execution_count": 827,
      "outputs": []
    },
    {
      "cell_type": "code",
      "source": [
        "dummies=pd.get_dummies(train[['major_discipline']])\n",
        "train = pd.concat([train.drop(['major_discipline'],axis=1), dummies],axis=1)"
      ],
      "metadata": {
        "id": "hynSS6-t5SO_"
      },
      "execution_count": 828,
      "outputs": []
    },
    {
      "cell_type": "code",
      "source": [
        "dummies=pd.get_dummies(train[['experience']])\n",
        "train = pd.concat([train.drop(['experience'],axis=1), dummies],axis=1)"
      ],
      "metadata": {
        "id": "N0CkXae35TMQ"
      },
      "execution_count": 829,
      "outputs": []
    },
    {
      "cell_type": "code",
      "source": [
        "dummies=pd.get_dummies(train[['company_size']])\n",
        "train = pd.concat([train.drop(['company_size'],axis=1), dummies],axis=1)"
      ],
      "metadata": {
        "id": "RhoqmTsk5UTN"
      },
      "execution_count": 830,
      "outputs": []
    },
    {
      "cell_type": "code",
      "source": [
        "dummies=pd.get_dummies(train[['company_type']])\n",
        "train = pd.concat([train.drop(['company_type'],axis=1), dummies],axis=1)"
      ],
      "metadata": {
        "id": "S2fbtPWK5Vjy"
      },
      "execution_count": 831,
      "outputs": []
    },
    {
      "cell_type": "code",
      "source": [
        "dummies=pd.get_dummies(train[['last_new_job']])\n",
        "train = pd.concat([train.drop(['last_new_job'],axis=1), dummies],axis=1)"
      ],
      "metadata": {
        "id": "Iw41agJ65Wbo"
      },
      "execution_count": 832,
      "outputs": []
    },
    {
      "cell_type": "code",
      "source": [
        "test.head()"
      ],
      "metadata": {
        "colab": {
          "base_uri": "https://localhost:8080/",
          "height": 305
        },
        "id": "mqTmBzO-5Xzf",
        "outputId": "852fb386-8b58-4156-8c01-b5517a069a24"
      },
      "execution_count": 833,
      "outputs": [
        {
          "output_type": "execute_result",
          "data": {
            "text/plain": [
              "   enrollee_id      city  city_development_index gender  \\\n",
              "0         8949  city_103                   0.920   Male   \n",
              "1        29725   city_40                   0.776   Male   \n",
              "2        11561   city_21                   0.624   Male   \n",
              "3        33241  city_115                   0.789   Male   \n",
              "4          666  city_162                   0.767   Male   \n",
              "\n",
              "       relevent_experience enrolled_university education_level  \\\n",
              "0  Has relevent experience       no_enrollment        Graduate   \n",
              "1   No relevent experience       no_enrollment        Graduate   \n",
              "2   No relevent experience    Full time course        Graduate   \n",
              "3   No relevent experience       no_enrollment        Graduate   \n",
              "4  Has relevent experience       no_enrollment         Masters   \n",
              "\n",
              "  major_discipline experience company_size    company_type last_new_job  \\\n",
              "0             STEM        >20        50-99         Pvt Ltd            1   \n",
              "1             STEM         15        50-99         Pvt Ltd           >4   \n",
              "2             STEM          5        50-99         Pvt Ltd        never   \n",
              "3  Business Degree         <1        50-99         Pvt Ltd        never   \n",
              "4             STEM        >20        50-99  Funded Startup            4   \n",
              "\n",
              "   training_hours  target  \n",
              "0              36       1  \n",
              "1              47       0  \n",
              "2              83       0  \n",
              "3              52       1  \n",
              "4               8       0  "
            ],
            "text/html": [
              "\n",
              "  <div id=\"df-5ca16be2-0959-4940-87e7-3935444952db\">\n",
              "    <div class=\"colab-df-container\">\n",
              "      <div>\n",
              "<style scoped>\n",
              "    .dataframe tbody tr th:only-of-type {\n",
              "        vertical-align: middle;\n",
              "    }\n",
              "\n",
              "    .dataframe tbody tr th {\n",
              "        vertical-align: top;\n",
              "    }\n",
              "\n",
              "    .dataframe thead th {\n",
              "        text-align: right;\n",
              "    }\n",
              "</style>\n",
              "<table border=\"1\" class=\"dataframe\">\n",
              "  <thead>\n",
              "    <tr style=\"text-align: right;\">\n",
              "      <th></th>\n",
              "      <th>enrollee_id</th>\n",
              "      <th>city</th>\n",
              "      <th>city_development_index</th>\n",
              "      <th>gender</th>\n",
              "      <th>relevent_experience</th>\n",
              "      <th>enrolled_university</th>\n",
              "      <th>education_level</th>\n",
              "      <th>major_discipline</th>\n",
              "      <th>experience</th>\n",
              "      <th>company_size</th>\n",
              "      <th>company_type</th>\n",
              "      <th>last_new_job</th>\n",
              "      <th>training_hours</th>\n",
              "      <th>target</th>\n",
              "    </tr>\n",
              "  </thead>\n",
              "  <tbody>\n",
              "    <tr>\n",
              "      <th>0</th>\n",
              "      <td>8949</td>\n",
              "      <td>city_103</td>\n",
              "      <td>0.920</td>\n",
              "      <td>Male</td>\n",
              "      <td>Has relevent experience</td>\n",
              "      <td>no_enrollment</td>\n",
              "      <td>Graduate</td>\n",
              "      <td>STEM</td>\n",
              "      <td>&gt;20</td>\n",
              "      <td>50-99</td>\n",
              "      <td>Pvt Ltd</td>\n",
              "      <td>1</td>\n",
              "      <td>36</td>\n",
              "      <td>1</td>\n",
              "    </tr>\n",
              "    <tr>\n",
              "      <th>1</th>\n",
              "      <td>29725</td>\n",
              "      <td>city_40</td>\n",
              "      <td>0.776</td>\n",
              "      <td>Male</td>\n",
              "      <td>No relevent experience</td>\n",
              "      <td>no_enrollment</td>\n",
              "      <td>Graduate</td>\n",
              "      <td>STEM</td>\n",
              "      <td>15</td>\n",
              "      <td>50-99</td>\n",
              "      <td>Pvt Ltd</td>\n",
              "      <td>&gt;4</td>\n",
              "      <td>47</td>\n",
              "      <td>0</td>\n",
              "    </tr>\n",
              "    <tr>\n",
              "      <th>2</th>\n",
              "      <td>11561</td>\n",
              "      <td>city_21</td>\n",
              "      <td>0.624</td>\n",
              "      <td>Male</td>\n",
              "      <td>No relevent experience</td>\n",
              "      <td>Full time course</td>\n",
              "      <td>Graduate</td>\n",
              "      <td>STEM</td>\n",
              "      <td>5</td>\n",
              "      <td>50-99</td>\n",
              "      <td>Pvt Ltd</td>\n",
              "      <td>never</td>\n",
              "      <td>83</td>\n",
              "      <td>0</td>\n",
              "    </tr>\n",
              "    <tr>\n",
              "      <th>3</th>\n",
              "      <td>33241</td>\n",
              "      <td>city_115</td>\n",
              "      <td>0.789</td>\n",
              "      <td>Male</td>\n",
              "      <td>No relevent experience</td>\n",
              "      <td>no_enrollment</td>\n",
              "      <td>Graduate</td>\n",
              "      <td>Business Degree</td>\n",
              "      <td>&lt;1</td>\n",
              "      <td>50-99</td>\n",
              "      <td>Pvt Ltd</td>\n",
              "      <td>never</td>\n",
              "      <td>52</td>\n",
              "      <td>1</td>\n",
              "    </tr>\n",
              "    <tr>\n",
              "      <th>4</th>\n",
              "      <td>666</td>\n",
              "      <td>city_162</td>\n",
              "      <td>0.767</td>\n",
              "      <td>Male</td>\n",
              "      <td>Has relevent experience</td>\n",
              "      <td>no_enrollment</td>\n",
              "      <td>Masters</td>\n",
              "      <td>STEM</td>\n",
              "      <td>&gt;20</td>\n",
              "      <td>50-99</td>\n",
              "      <td>Funded Startup</td>\n",
              "      <td>4</td>\n",
              "      <td>8</td>\n",
              "      <td>0</td>\n",
              "    </tr>\n",
              "  </tbody>\n",
              "</table>\n",
              "</div>\n",
              "      <button class=\"colab-df-convert\" onclick=\"convertToInteractive('df-5ca16be2-0959-4940-87e7-3935444952db')\"\n",
              "              title=\"Convert this dataframe to an interactive table.\"\n",
              "              style=\"display:none;\">\n",
              "        \n",
              "  <svg xmlns=\"http://www.w3.org/2000/svg\" height=\"24px\"viewBox=\"0 0 24 24\"\n",
              "       width=\"24px\">\n",
              "    <path d=\"M0 0h24v24H0V0z\" fill=\"none\"/>\n",
              "    <path d=\"M18.56 5.44l.94 2.06.94-2.06 2.06-.94-2.06-.94-.94-2.06-.94 2.06-2.06.94zm-11 1L8.5 8.5l.94-2.06 2.06-.94-2.06-.94L8.5 2.5l-.94 2.06-2.06.94zm10 10l.94 2.06.94-2.06 2.06-.94-2.06-.94-.94-2.06-.94 2.06-2.06.94z\"/><path d=\"M17.41 7.96l-1.37-1.37c-.4-.4-.92-.59-1.43-.59-.52 0-1.04.2-1.43.59L10.3 9.45l-7.72 7.72c-.78.78-.78 2.05 0 2.83L4 21.41c.39.39.9.59 1.41.59.51 0 1.02-.2 1.41-.59l7.78-7.78 2.81-2.81c.8-.78.8-2.07 0-2.86zM5.41 20L4 18.59l7.72-7.72 1.47 1.35L5.41 20z\"/>\n",
              "  </svg>\n",
              "      </button>\n",
              "      \n",
              "  <style>\n",
              "    .colab-df-container {\n",
              "      display:flex;\n",
              "      flex-wrap:wrap;\n",
              "      gap: 12px;\n",
              "    }\n",
              "\n",
              "    .colab-df-convert {\n",
              "      background-color: #E8F0FE;\n",
              "      border: none;\n",
              "      border-radius: 50%;\n",
              "      cursor: pointer;\n",
              "      display: none;\n",
              "      fill: #1967D2;\n",
              "      height: 32px;\n",
              "      padding: 0 0 0 0;\n",
              "      width: 32px;\n",
              "    }\n",
              "\n",
              "    .colab-df-convert:hover {\n",
              "      background-color: #E2EBFA;\n",
              "      box-shadow: 0px 1px 2px rgba(60, 64, 67, 0.3), 0px 1px 3px 1px rgba(60, 64, 67, 0.15);\n",
              "      fill: #174EA6;\n",
              "    }\n",
              "\n",
              "    [theme=dark] .colab-df-convert {\n",
              "      background-color: #3B4455;\n",
              "      fill: #D2E3FC;\n",
              "    }\n",
              "\n",
              "    [theme=dark] .colab-df-convert:hover {\n",
              "      background-color: #434B5C;\n",
              "      box-shadow: 0px 1px 3px 1px rgba(0, 0, 0, 0.15);\n",
              "      filter: drop-shadow(0px 1px 2px rgba(0, 0, 0, 0.3));\n",
              "      fill: #FFFFFF;\n",
              "    }\n",
              "  </style>\n",
              "\n",
              "      <script>\n",
              "        const buttonEl =\n",
              "          document.querySelector('#df-5ca16be2-0959-4940-87e7-3935444952db button.colab-df-convert');\n",
              "        buttonEl.style.display =\n",
              "          google.colab.kernel.accessAllowed ? 'block' : 'none';\n",
              "\n",
              "        async function convertToInteractive(key) {\n",
              "          const element = document.querySelector('#df-5ca16be2-0959-4940-87e7-3935444952db');\n",
              "          const dataTable =\n",
              "            await google.colab.kernel.invokeFunction('convertToInteractive',\n",
              "                                                     [key], {});\n",
              "          if (!dataTable) return;\n",
              "\n",
              "          const docLinkHtml = 'Like what you see? Visit the ' +\n",
              "            '<a target=\"_blank\" href=https://colab.research.google.com/notebooks/data_table.ipynb>data table notebook</a>'\n",
              "            + ' to learn more about interactive tables.';\n",
              "          element.innerHTML = '';\n",
              "          dataTable['output_type'] = 'display_data';\n",
              "          await google.colab.output.renderOutput(dataTable, element);\n",
              "          const docLink = document.createElement('div');\n",
              "          docLink.innerHTML = docLinkHtml;\n",
              "          element.appendChild(docLink);\n",
              "        }\n",
              "      </script>\n",
              "    </div>\n",
              "  </div>\n",
              "  "
            ]
          },
          "metadata": {},
          "execution_count": 833
        }
      ]
    },
    {
      "cell_type": "code",
      "source": [
        "test['relevent_experience']=test['relevent_experience'].replace({'No relevent experience':0,'Has relevent experience':1})"
      ],
      "metadata": {
        "id": "jbZ1Jz3c5Yz2"
      },
      "execution_count": 834,
      "outputs": []
    },
    {
      "cell_type": "code",
      "source": [
        "dummies=pd.get_dummies(test[['gender']])\n",
        "test = pd.concat([test.drop(['gender'],axis=1), dummies],axis=1)"
      ],
      "metadata": {
        "id": "tTCcWbF35aiG"
      },
      "execution_count": 835,
      "outputs": []
    },
    {
      "cell_type": "code",
      "source": [
        "dummies=pd.get_dummies(test[['enrolled_university']])\n",
        "test = pd.concat([test.drop(['enrolled_university'],axis=1), dummies],axis=1)"
      ],
      "metadata": {
        "id": "Fw0y-AWA5bYg"
      },
      "execution_count": 836,
      "outputs": []
    },
    {
      "cell_type": "code",
      "source": [
        "test=test.drop(\"education_level\",axis=1)"
      ],
      "metadata": {
        "id": "N9SJqMaa5cg7"
      },
      "execution_count": 837,
      "outputs": []
    },
    {
      "cell_type": "code",
      "source": [
        "dummies=pd.get_dummies(test[['major_discipline']])\n",
        "test = pd.concat([test.drop(['major_discipline'],axis=1), dummies],axis=1)"
      ],
      "metadata": {
        "id": "_vEwGQzn5d5X"
      },
      "execution_count": 838,
      "outputs": []
    },
    {
      "cell_type": "code",
      "source": [
        "dummies=pd.get_dummies(test[['experience']])\n",
        "test = pd.concat([test.drop(['experience'],axis=1), dummies],axis=1)"
      ],
      "metadata": {
        "id": "hMcadPBC5ex8"
      },
      "execution_count": 839,
      "outputs": []
    },
    {
      "cell_type": "code",
      "source": [
        "dummies=pd.get_dummies(test[['company_size']])\n",
        "test = pd.concat([test.drop(['company_size'],axis=1), dummies],axis=1)"
      ],
      "metadata": {
        "id": "xUqDDW5C5f9O"
      },
      "execution_count": 840,
      "outputs": []
    },
    {
      "cell_type": "code",
      "source": [
        "dummies=pd.get_dummies(test[['company_type']])\n",
        "test = pd.concat([test.drop(['company_type'],axis=1), dummies],axis=1)"
      ],
      "metadata": {
        "id": "-v8vXOjn5pj3"
      },
      "execution_count": 841,
      "outputs": []
    },
    {
      "cell_type": "code",
      "source": [
        "dummies=pd.get_dummies(test[['last_new_job']])\n",
        "test = pd.concat([test.drop(['last_new_job'],axis=1), dummies],axis=1)"
      ],
      "metadata": {
        "id": "HA6jreMV5p9p"
      },
      "execution_count": 842,
      "outputs": []
    },
    {
      "cell_type": "code",
      "source": [
        "print(train.shape)\n",
        "print(test.shape)"
      ],
      "metadata": {
        "colab": {
          "base_uri": "https://localhost:8080/"
        },
        "id": "8cdX6DsJ5rJZ",
        "outputId": "71ef34df-3efd-4a47-ed22-87be29937d3b"
      },
      "execution_count": 843,
      "outputs": [
        {
          "output_type": "stream",
          "name": "stdout",
          "text": [
            "(8955, 60)\n",
            "(19158, 60)\n"
          ]
        }
      ]
    },
    {
      "cell_type": "code",
      "source": [
        "train.columns"
      ],
      "metadata": {
        "colab": {
          "base_uri": "https://localhost:8080/"
        },
        "id": "969eIYHi5sPx",
        "outputId": "f1059796-3e30-41ab-f608-35d1b7494f83"
      },
      "execution_count": 844,
      "outputs": [
        {
          "output_type": "execute_result",
          "data": {
            "text/plain": [
              "Index(['enrollee_id', 'city', 'city_development_index', 'relevent_experience',\n",
              "       'training_hours', 'target', 'enrolled_university_Full time course',\n",
              "       'enrolled_university_Part time course',\n",
              "       'enrolled_university_no_enrollment', 'gender_Female', 'gender_Male',\n",
              "       'gender_Other', 'major_discipline_Arts',\n",
              "       'major_discipline_Business Degree', 'major_discipline_Humanities',\n",
              "       'major_discipline_No Major', 'major_discipline_Other',\n",
              "       'major_discipline_STEM', 'experience_1', 'experience_10',\n",
              "       'experience_11', 'experience_12', 'experience_13', 'experience_14',\n",
              "       'experience_15', 'experience_16', 'experience_17', 'experience_18',\n",
              "       'experience_19', 'experience_2', 'experience_20', 'experience_3',\n",
              "       'experience_4', 'experience_5', 'experience_6', 'experience_7',\n",
              "       'experience_8', 'experience_9', 'experience_<1', 'experience_>20',\n",
              "       'company_size_100-500', 'company_size_1000-4999', 'company_size_10000+',\n",
              "       'company_size_50-99', 'company_size_500-999', 'company_size_5000-9999',\n",
              "       'company_size_<10', 'company_size_Oct-49',\n",
              "       'company_type_Early Stage Startup', 'company_type_Funded Startup',\n",
              "       'company_type_NGO', 'company_type_Other', 'company_type_Public Sector',\n",
              "       'company_type_Pvt Ltd', 'last_new_job_1', 'last_new_job_2',\n",
              "       'last_new_job_3', 'last_new_job_4', 'last_new_job_>4',\n",
              "       'last_new_job_never'],\n",
              "      dtype='object')"
            ]
          },
          "metadata": {},
          "execution_count": 844
        }
      ]
    },
    {
      "cell_type": "code",
      "source": [
        "X=train.drop(['enrollee_id','city','target'],axis=1)\n",
        "y=train[['target']]"
      ],
      "metadata": {
        "id": "VzEcGc8B5t-D"
      },
      "execution_count": 845,
      "outputs": []
    },
    {
      "cell_type": "code",
      "source": [
        "import sklearn\n",
        "from sklearn.model_selection import train_test_split"
      ],
      "metadata": {
        "id": "WpMszqx55w75"
      },
      "execution_count": 846,
      "outputs": []
    },
    {
      "cell_type": "code",
      "source": [
        "X_train,X_test,y_train,y_test=train_test_split(X,y,train_size=0.7,random_state=2529)"
      ],
      "metadata": {
        "id": "kV-wQgQ25yLH"
      },
      "execution_count": 847,
      "outputs": []
    },
    {
      "cell_type": "code",
      "source": [
        "print(X_train.shape)\n",
        "print(y_train.shape)\n",
        "print(X_test.shape)\n",
        "print(y_test.shape)"
      ],
      "metadata": {
        "colab": {
          "base_uri": "https://localhost:8080/"
        },
        "id": "0qbS1rpY516T",
        "outputId": "ed5ef42f-6715-49d5-d832-8c236a715ff6"
      },
      "execution_count": 848,
      "outputs": [
        {
          "output_type": "stream",
          "name": "stdout",
          "text": [
            "(6268, 57)\n",
            "(6268, 1)\n",
            "(2687, 57)\n",
            "(2687, 1)\n"
          ]
        }
      ]
    },
    {
      "cell_type": "code",
      "source": [
        "from sklearn.linear_model import LogisticRegression\n",
        "model=LogisticRegression()"
      ],
      "metadata": {
        "id": "13bDJw9r53QB"
      },
      "execution_count": 849,
      "outputs": []
    },
    {
      "cell_type": "code",
      "source": [
        "model.fit(X_train,y_train)"
      ],
      "metadata": {
        "colab": {
          "base_uri": "https://localhost:8080/"
        },
        "id": "H_IvcBGh54s2",
        "outputId": "9bd65e61-ab39-42c0-8c76-e26b7c025fe7"
      },
      "execution_count": 850,
      "outputs": [
        {
          "output_type": "stream",
          "name": "stderr",
          "text": [
            "/usr/local/lib/python3.7/dist-packages/sklearn/utils/validation.py:993: DataConversionWarning: A column-vector y was passed when a 1d array was expected. Please change the shape of y to (n_samples, ), for example using ravel().\n",
            "  y = column_or_1d(y, warn=True)\n",
            "/usr/local/lib/python3.7/dist-packages/sklearn/linear_model/_logistic.py:818: ConvergenceWarning: lbfgs failed to converge (status=1):\n",
            "STOP: TOTAL NO. of ITERATIONS REACHED LIMIT.\n",
            "\n",
            "Increase the number of iterations (max_iter) or scale the data as shown in:\n",
            "    https://scikit-learn.org/stable/modules/preprocessing.html\n",
            "Please also refer to the documentation for alternative solver options:\n",
            "    https://scikit-learn.org/stable/modules/linear_model.html#logistic-regression\n",
            "  extra_warning_msg=_LOGISTIC_SOLVER_CONVERGENCE_MSG,\n"
          ]
        },
        {
          "output_type": "execute_result",
          "data": {
            "text/plain": [
              "LogisticRegression()"
            ]
          },
          "metadata": {},
          "execution_count": 850
        }
      ]
    },
    {
      "cell_type": "code",
      "source": [
        "predictions=model.predict(X_test)"
      ],
      "metadata": {
        "id": "ZVgCIfFB55ks"
      },
      "execution_count": 851,
      "outputs": []
    },
    {
      "cell_type": "code",
      "source": [
        "model.score(X_test,y_test)"
      ],
      "metadata": {
        "colab": {
          "base_uri": "https://localhost:8080/"
        },
        "id": "Ojup8Wzn56tz",
        "outputId": "d61165d1-b949-4b28-a31a-3e2b18c33694"
      },
      "execution_count": 852,
      "outputs": [
        {
          "output_type": "execute_result",
          "data": {
            "text/plain": [
              "0.8418310383327131"
            ]
          },
          "metadata": {},
          "execution_count": 852
        }
      ]
    }
  ]
}